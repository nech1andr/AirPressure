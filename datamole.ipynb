{
 "cells": [
  {
   "cell_type": "code",
   "execution_count": 1,
   "id": "7b583695-7b59-4c8b-9f6c-754db3f658b4",
   "metadata": {},
   "outputs": [
    {
     "name": "stdout",
     "output_type": "stream",
     "text": [
      "Requirement already satisfied: vaex in /opt/conda/lib/python3.7/site-packages (4.9.0)\n",
      "Requirement already satisfied: vaex-ml<0.18,>=0.17.0 in /opt/conda/lib/python3.7/site-packages (from vaex) (0.17.0)\n",
      "Requirement already satisfied: vaex-hdf5<0.13,>=0.12.1 in /opt/conda/lib/python3.7/site-packages (from vaex) (0.12.1)\n",
      "Requirement already satisfied: vaex-jupyter<0.8,>=0.7.0 in /opt/conda/lib/python3.7/site-packages (from vaex) (0.7.0)\n",
      "Requirement already satisfied: vaex-core<4.10,>=4.9.0 in /opt/conda/lib/python3.7/site-packages (from vaex) (4.9.0)\n",
      "Requirement already satisfied: vaex-server<0.9,>=0.8.1 in /opt/conda/lib/python3.7/site-packages (from vaex) (0.8.1)\n",
      "Requirement already satisfied: vaex-astro<0.10,>=0.9.1 in /opt/conda/lib/python3.7/site-packages (from vaex) (0.9.1)\n",
      "Requirement already satisfied: vaex-viz<0.6,>=0.5.1 in /opt/conda/lib/python3.7/site-packages (from vaex) (0.5.1)\n",
      "Requirement already satisfied: astropy in /opt/conda/lib/python3.7/site-packages (from vaex-astro<0.10,>=0.9.1->vaex) (4.3.1)\n",
      "Requirement already satisfied: progressbar2 in /opt/conda/lib/python3.7/site-packages (from vaex-core<4.10,>=4.9.0->vaex) (4.0.0)\n",
      "Requirement already satisfied: nest-asyncio>=1.3.3 in /opt/conda/lib/python3.7/site-packages (from vaex-core<4.10,>=4.9.0->vaex) (1.5.4)\n",
      "Requirement already satisfied: dask!=2022.4.0 in /opt/conda/lib/python3.7/site-packages (from vaex-core<4.10,>=4.9.0->vaex) (2022.2.0)\n",
      "Requirement already satisfied: blake3 in /opt/conda/lib/python3.7/site-packages (from vaex-core<4.10,>=4.9.0->vaex) (0.3.1)\n",
      "Requirement already satisfied: rich in /opt/conda/lib/python3.7/site-packages (from vaex-core<4.10,>=4.9.0->vaex) (12.2.0)\n",
      "Requirement already satisfied: future>=0.15.2 in /opt/conda/lib/python3.7/site-packages (from vaex-core<4.10,>=4.9.0->vaex) (0.18.2)\n",
      "Requirement already satisfied: pandas in /opt/conda/lib/python3.7/site-packages (from vaex-core<4.10,>=4.9.0->vaex) (1.3.5)\n",
      "Requirement already satisfied: pyyaml in /opt/conda/lib/python3.7/site-packages (from vaex-core<4.10,>=4.9.0->vaex) (6.0)\n",
      "Requirement already satisfied: cloudpickle in /opt/conda/lib/python3.7/site-packages (from vaex-core<4.10,>=4.9.0->vaex) (2.0.0)\n",
      "Requirement already satisfied: filelock in /opt/conda/lib/python3.7/site-packages (from vaex-core<4.10,>=4.9.0->vaex) (3.6.0)\n",
      "Requirement already satisfied: pydantic>=1.8.0 in /opt/conda/lib/python3.7/site-packages (from vaex-core<4.10,>=4.9.0->vaex) (1.9.0)\n",
      "Requirement already satisfied: aplus in /opt/conda/lib/python3.7/site-packages (from vaex-core<4.10,>=4.9.0->vaex) (0.11.0)\n",
      "Requirement already satisfied: numpy>=1.16 in /opt/conda/lib/python3.7/site-packages (from vaex-core<4.10,>=4.9.0->vaex) (1.19.5)\n",
      "Requirement already satisfied: frozendict!=2.2.0 in /opt/conda/lib/python3.7/site-packages (from vaex-core<4.10,>=4.9.0->vaex) (2.3.1)\n",
      "Requirement already satisfied: six in /opt/conda/lib/python3.7/site-packages (from vaex-core<4.10,>=4.9.0->vaex) (1.16.0)\n",
      "Requirement already satisfied: pyarrow>=3.0 in /opt/conda/lib/python3.7/site-packages (from vaex-core<4.10,>=4.9.0->vaex) (7.0.0)\n",
      "Requirement already satisfied: tabulate>=0.8.3 in /opt/conda/lib/python3.7/site-packages (from vaex-core<4.10,>=4.9.0->vaex) (0.8.9)\n",
      "Requirement already satisfied: requests in /opt/conda/lib/python3.7/site-packages (from vaex-core<4.10,>=4.9.0->vaex) (2.27.1)\n",
      "Requirement already satisfied: h5py>=2.9 in /opt/conda/lib/python3.7/site-packages (from vaex-hdf5<0.13,>=0.12.1->vaex) (3.6.0)\n",
      "Requirement already satisfied: ipyvuetify<2,>=1.2.2 in /opt/conda/lib/python3.7/site-packages (from vaex-jupyter<0.8,>=0.7.0->vaex) (1.8.2)\n",
      "Requirement already satisfied: ipyvolume>=0.4 in /opt/conda/lib/python3.7/site-packages (from vaex-jupyter<0.8,>=0.7.0->vaex) (0.5.2)\n",
      "Requirement already satisfied: bqplot>=0.10.1 in /opt/conda/lib/python3.7/site-packages (from vaex-jupyter<0.8,>=0.7.0->vaex) (0.12.33)\n",
      "Requirement already satisfied: xarray in /opt/conda/lib/python3.7/site-packages (from vaex-jupyter<0.8,>=0.7.0->vaex) (0.20.2)\n",
      "Requirement already satisfied: ipyleaflet in /opt/conda/lib/python3.7/site-packages (from vaex-jupyter<0.8,>=0.7.0->vaex) (0.15.0)\n",
      "Requirement already satisfied: ipympl in /opt/conda/lib/python3.7/site-packages (from vaex-jupyter<0.8,>=0.7.0->vaex) (0.8.8)\n",
      "Requirement already satisfied: numba in /opt/conda/lib/python3.7/site-packages (from vaex-ml<0.18,>=0.17.0->vaex) (0.55.1)\n",
      "Requirement already satisfied: jinja2 in /opt/conda/lib/python3.7/site-packages (from vaex-ml<0.18,>=0.17.0->vaex) (3.0.3)\n",
      "Requirement already satisfied: traitlets in /opt/conda/lib/python3.7/site-packages (from vaex-ml<0.18,>=0.17.0->vaex) (5.1.1)\n",
      "Requirement already satisfied: tornado>4.1 in /opt/conda/lib/python3.7/site-packages (from vaex-server<0.9,>=0.8.1->vaex) (6.1)\n",
      "Requirement already satisfied: cachetools in /opt/conda/lib/python3.7/site-packages (from vaex-server<0.9,>=0.8.1->vaex) (5.0.0)\n",
      "Requirement already satisfied: fastapi in /opt/conda/lib/python3.7/site-packages (from vaex-server<0.9,>=0.8.1->vaex) (0.75.1)\n",
      "Requirement already satisfied: uvicorn[standard] in /opt/conda/lib/python3.7/site-packages (from vaex-server<0.9,>=0.8.1->vaex) (0.17.6)\n",
      "Requirement already satisfied: pillow in /opt/conda/lib/python3.7/site-packages (from vaex-viz<0.6,>=0.5.1->vaex) (9.0.1)\n",
      "Requirement already satisfied: matplotlib>=1.3.1 in /opt/conda/lib/python3.7/site-packages (from vaex-viz<0.6,>=0.5.1->vaex) (3.5.1)\n",
      "Requirement already satisfied: traittypes>=0.0.6 in /opt/conda/lib/python3.7/site-packages (from bqplot>=0.10.1->vaex-jupyter<0.8,>=0.7.0->vaex) (0.2.1)\n",
      "Requirement already satisfied: ipywidgets>=7.5.0 in /opt/conda/lib/python3.7/site-packages (from bqplot>=0.10.1->vaex-jupyter<0.8,>=0.7.0->vaex) (7.6.5)\n",
      "Requirement already satisfied: packaging>=20.0 in /opt/conda/lib/python3.7/site-packages (from dask!=2022.4.0->vaex-core<4.10,>=4.9.0->vaex) (21.3)\n",
      "Requirement already satisfied: partd>=0.3.10 in /opt/conda/lib/python3.7/site-packages (from dask!=2022.4.0->vaex-core<4.10,>=4.9.0->vaex) (1.2.0)\n",
      "Requirement already satisfied: fsspec>=0.6.0 in /opt/conda/lib/python3.7/site-packages (from dask!=2022.4.0->vaex-core<4.10,>=4.9.0->vaex) (2022.2.0)\n",
      "Requirement already satisfied: toolz>=0.8.2 in /opt/conda/lib/python3.7/site-packages (from dask!=2022.4.0->vaex-core<4.10,>=4.9.0->vaex) (0.11.2)\n",
      "Requirement already satisfied: cached-property in /opt/conda/lib/python3.7/site-packages (from h5py>=2.9->vaex-hdf5<0.13,>=0.12.1->vaex) (1.5.2)\n",
      "Requirement already satisfied: pythreejs>=1.0.0 in /opt/conda/lib/python3.7/site-packages (from ipyvolume>=0.4->vaex-jupyter<0.8,>=0.7.0->vaex) (2.3.0)\n",
      "Requirement already satisfied: ipywebrtc in /opt/conda/lib/python3.7/site-packages (from ipyvolume>=0.4->vaex-jupyter<0.8,>=0.7.0->vaex) (0.6.0)\n",
      "Requirement already satisfied: ipyvue<2,>=1.5 in /opt/conda/lib/python3.7/site-packages (from ipyvuetify<2,>=1.2.2->vaex-jupyter<0.8,>=0.7.0->vaex) (1.7.0)\n",
      "Requirement already satisfied: kiwisolver>=1.0.1 in /opt/conda/lib/python3.7/site-packages (from matplotlib>=1.3.1->vaex-viz<0.6,>=0.5.1->vaex) (1.4.0)\n",
      "Requirement already satisfied: fonttools>=4.22.0 in /opt/conda/lib/python3.7/site-packages (from matplotlib>=1.3.1->vaex-viz<0.6,>=0.5.1->vaex) (4.30.0)\n",
      "Requirement already satisfied: python-dateutil>=2.7 in /opt/conda/lib/python3.7/site-packages (from matplotlib>=1.3.1->vaex-viz<0.6,>=0.5.1->vaex) (2.8.2)\n",
      "Requirement already satisfied: pyparsing>=2.2.1 in /opt/conda/lib/python3.7/site-packages (from matplotlib>=1.3.1->vaex-viz<0.6,>=0.5.1->vaex) (3.0.7)\n",
      "Requirement already satisfied: cycler>=0.10 in /opt/conda/lib/python3.7/site-packages (from matplotlib>=1.3.1->vaex-viz<0.6,>=0.5.1->vaex) (0.11.0)\n",
      "Requirement already satisfied: pytz>=2017.3 in /opt/conda/lib/python3.7/site-packages (from pandas->vaex-core<4.10,>=4.9.0->vaex) (2021.3)\n",
      "Requirement already satisfied: typing-extensions>=3.7.4.3 in /opt/conda/lib/python3.7/site-packages (from pydantic>=1.8.0->vaex-core<4.10,>=4.9.0->vaex) (4.1.1)\n",
      "Requirement already satisfied: pyerfa>=1.7.3 in /opt/conda/lib/python3.7/site-packages (from astropy->vaex-astro<0.10,>=0.9.1->vaex) (2.0.0.1)\n",
      "Requirement already satisfied: importlib-metadata in /opt/conda/lib/python3.7/site-packages (from astropy->vaex-astro<0.10,>=0.9.1->vaex) (4.11.3)\n",
      "Requirement already satisfied: starlette==0.17.1 in /opt/conda/lib/python3.7/site-packages (from fastapi->vaex-server<0.9,>=0.8.1->vaex) (0.17.1)\n",
      "Requirement already satisfied: anyio<4,>=3.0.0 in /opt/conda/lib/python3.7/site-packages (from starlette==0.17.1->fastapi->vaex-server<0.9,>=0.8.1->vaex) (3.5.0)\n",
      "Requirement already satisfied: xyzservices>=2021.8.1 in /opt/conda/lib/python3.7/site-packages (from ipyleaflet->vaex-jupyter<0.8,>=0.7.0->vaex) (2022.3.0)\n",
      "Requirement already satisfied: ipython-genutils in /opt/conda/lib/python3.7/site-packages (from ipympl->vaex-jupyter<0.8,>=0.7.0->vaex) (0.2.0)\n",
      "Requirement already satisfied: ipython<9 in /opt/conda/lib/python3.7/site-packages (from ipympl->vaex-jupyter<0.8,>=0.7.0->vaex) (7.32.0)\n",
      "Requirement already satisfied: MarkupSafe>=2.0 in /opt/conda/lib/python3.7/site-packages (from jinja2->vaex-ml<0.18,>=0.17.0->vaex) (2.1.1)\n",
      "Requirement already satisfied: llvmlite<0.39,>=0.38.0rc1 in /opt/conda/lib/python3.7/site-packages (from numba->vaex-ml<0.18,>=0.17.0->vaex) (0.38.0)\n",
      "Requirement already satisfied: setuptools in /opt/conda/lib/python3.7/site-packages (from numba->vaex-ml<0.18,>=0.17.0->vaex) (59.8.0)\n",
      "Requirement already satisfied: python-utils>=3.0.0 in /opt/conda/lib/python3.7/site-packages (from progressbar2->vaex-core<4.10,>=4.9.0->vaex) (3.1.0)\n",
      "Requirement already satisfied: urllib3<1.27,>=1.21.1 in /opt/conda/lib/python3.7/site-packages (from requests->vaex-core<4.10,>=4.9.0->vaex) (1.26.8)\n",
      "Requirement already satisfied: certifi>=2017.4.17 in /opt/conda/lib/python3.7/site-packages (from requests->vaex-core<4.10,>=4.9.0->vaex) (2021.10.8)\n",
      "Requirement already satisfied: charset-normalizer~=2.0.0 in /opt/conda/lib/python3.7/site-packages (from requests->vaex-core<4.10,>=4.9.0->vaex) (2.0.12)\n",
      "Requirement already satisfied: idna<4,>=2.5 in /opt/conda/lib/python3.7/site-packages (from requests->vaex-core<4.10,>=4.9.0->vaex) (3.3)\n",
      "Requirement already satisfied: pygments<3.0.0,>=2.6.0 in /opt/conda/lib/python3.7/site-packages (from rich->vaex-core<4.10,>=4.9.0->vaex) (2.11.2)\n",
      "Requirement already satisfied: commonmark<0.10.0,>=0.9.0 in /opt/conda/lib/python3.7/site-packages (from rich->vaex-core<4.10,>=4.9.0->vaex) (0.9.1)\n",
      "Requirement already satisfied: h11>=0.8 in /opt/conda/lib/python3.7/site-packages (from uvicorn[standard]->vaex-server<0.9,>=0.8.1->vaex) (0.13.0)\n",
      "Requirement already satisfied: click>=7.0 in /opt/conda/lib/python3.7/site-packages (from uvicorn[standard]->vaex-server<0.9,>=0.8.1->vaex) (8.0.4)\n",
      "Requirement already satisfied: asgiref>=3.4.0 in /opt/conda/lib/python3.7/site-packages (from uvicorn[standard]->vaex-server<0.9,>=0.8.1->vaex) (3.5.0)\n",
      "Requirement already satisfied: httptools>=0.4.0 in /opt/conda/lib/python3.7/site-packages (from uvicorn[standard]->vaex-server<0.9,>=0.8.1->vaex) (0.4.0)\n",
      "Requirement already satisfied: websockets>=10.0 in /opt/conda/lib/python3.7/site-packages (from uvicorn[standard]->vaex-server<0.9,>=0.8.1->vaex) (10.2)\n",
      "Requirement already satisfied: python-dotenv>=0.13 in /opt/conda/lib/python3.7/site-packages (from uvicorn[standard]->vaex-server<0.9,>=0.8.1->vaex) (0.20.0)\n",
      "Requirement already satisfied: uvloop!=0.15.0,!=0.15.1,>=0.14.0 in /opt/conda/lib/python3.7/site-packages (from uvicorn[standard]->vaex-server<0.9,>=0.8.1->vaex) (0.16.0)\n",
      "Requirement already satisfied: watchgod>=0.6 in /opt/conda/lib/python3.7/site-packages (from uvicorn[standard]->vaex-server<0.9,>=0.8.1->vaex) (0.8.2)\n",
      "Requirement already satisfied: pexpect>4.3 in /opt/conda/lib/python3.7/site-packages (from ipython<9->ipympl->vaex-jupyter<0.8,>=0.7.0->vaex) (4.8.0)\n",
      "Requirement already satisfied: decorator in /opt/conda/lib/python3.7/site-packages (from ipython<9->ipympl->vaex-jupyter<0.8,>=0.7.0->vaex) (5.1.1)\n",
      "Requirement already satisfied: backcall in /opt/conda/lib/python3.7/site-packages (from ipython<9->ipympl->vaex-jupyter<0.8,>=0.7.0->vaex) (0.2.0)\n",
      "Requirement already satisfied: jedi>=0.16 in /opt/conda/lib/python3.7/site-packages (from ipython<9->ipympl->vaex-jupyter<0.8,>=0.7.0->vaex) (0.18.1)\n",
      "Requirement already satisfied: prompt-toolkit!=3.0.0,!=3.0.1,<3.1.0,>=2.0.0 in /opt/conda/lib/python3.7/site-packages (from ipython<9->ipympl->vaex-jupyter<0.8,>=0.7.0->vaex) (3.0.27)\n",
      "Requirement already satisfied: matplotlib-inline in /opt/conda/lib/python3.7/site-packages (from ipython<9->ipympl->vaex-jupyter<0.8,>=0.7.0->vaex) (0.1.3)\n",
      "Requirement already satisfied: pickleshare in /opt/conda/lib/python3.7/site-packages (from ipython<9->ipympl->vaex-jupyter<0.8,>=0.7.0->vaex) (0.7.5)\n",
      "Requirement already satisfied: ipykernel>=4.5.1 in /opt/conda/lib/python3.7/site-packages (from ipywidgets>=7.5.0->bqplot>=0.10.1->vaex-jupyter<0.8,>=0.7.0->vaex) (6.9.2)\n",
      "Requirement already satisfied: jupyterlab-widgets>=1.0.0 in /opt/conda/lib/python3.7/site-packages (from ipywidgets>=7.5.0->bqplot>=0.10.1->vaex-jupyter<0.8,>=0.7.0->vaex) (1.0.2)\n",
      "Requirement already satisfied: widgetsnbextension~=3.5.0 in /opt/conda/lib/python3.7/site-packages (from ipywidgets>=7.5.0->bqplot>=0.10.1->vaex-jupyter<0.8,>=0.7.0->vaex) (3.5.2)\n",
      "Requirement already satisfied: nbformat>=4.2.0 in /opt/conda/lib/python3.7/site-packages (from ipywidgets>=7.5.0->bqplot>=0.10.1->vaex-jupyter<0.8,>=0.7.0->vaex) (5.2.0)\n",
      "Requirement already satisfied: locket in /opt/conda/lib/python3.7/site-packages (from partd>=0.3.10->dask!=2022.4.0->vaex-core<4.10,>=4.9.0->vaex) (0.2.1)\n",
      "Requirement already satisfied: ipydatawidgets>=1.1.1 in /opt/conda/lib/python3.7/site-packages (from pythreejs>=1.0.0->ipyvolume>=0.4->vaex-jupyter<0.8,>=0.7.0->vaex) (4.2.0)\n",
      "Requirement already satisfied: zipp>=0.5 in /opt/conda/lib/python3.7/site-packages (from importlib-metadata->astropy->vaex-astro<0.10,>=0.9.1->vaex) (3.7.0)\n",
      "Requirement already satisfied: sniffio>=1.1 in /opt/conda/lib/python3.7/site-packages (from anyio<4,>=3.0.0->starlette==0.17.1->fastapi->vaex-server<0.9,>=0.8.1->vaex) (1.2.0)\n",
      "Requirement already satisfied: jupyter-client<8.0 in /opt/conda/lib/python3.7/site-packages (from ipykernel>=4.5.1->ipywidgets>=7.5.0->bqplot>=0.10.1->vaex-jupyter<0.8,>=0.7.0->vaex) (7.1.2)\n",
      "Requirement already satisfied: debugpy<2.0,>=1.0.0 in /opt/conda/lib/python3.7/site-packages (from ipykernel>=4.5.1->ipywidgets>=7.5.0->bqplot>=0.10.1->vaex-jupyter<0.8,>=0.7.0->vaex) (1.5.1)\n",
      "Requirement already satisfied: psutil in /opt/conda/lib/python3.7/site-packages (from ipykernel>=4.5.1->ipywidgets>=7.5.0->bqplot>=0.10.1->vaex-jupyter<0.8,>=0.7.0->vaex) (5.9.0)\n",
      "Requirement already satisfied: parso<0.9.0,>=0.8.0 in /opt/conda/lib/python3.7/site-packages (from jedi>=0.16->ipython<9->ipympl->vaex-jupyter<0.8,>=0.7.0->vaex) (0.8.3)\n",
      "Requirement already satisfied: jsonschema!=2.5.0,>=2.4 in /opt/conda/lib/python3.7/site-packages (from nbformat>=4.2.0->ipywidgets>=7.5.0->bqplot>=0.10.1->vaex-jupyter<0.8,>=0.7.0->vaex) (4.4.0)\n",
      "Requirement already satisfied: jupyter-core in /opt/conda/lib/python3.7/site-packages (from nbformat>=4.2.0->ipywidgets>=7.5.0->bqplot>=0.10.1->vaex-jupyter<0.8,>=0.7.0->vaex) (4.9.2)\n",
      "Requirement already satisfied: ptyprocess>=0.5 in /opt/conda/lib/python3.7/site-packages (from pexpect>4.3->ipython<9->ipympl->vaex-jupyter<0.8,>=0.7.0->vaex) (0.7.0)\n",
      "Requirement already satisfied: wcwidth in /opt/conda/lib/python3.7/site-packages (from prompt-toolkit!=3.0.0,!=3.0.1,<3.1.0,>=2.0.0->ipython<9->ipympl->vaex-jupyter<0.8,>=0.7.0->vaex) (0.2.5)\n",
      "Requirement already satisfied: notebook>=4.4.1 in /opt/conda/lib/python3.7/site-packages (from widgetsnbextension~=3.5.0->ipywidgets>=7.5.0->bqplot>=0.10.1->vaex-jupyter<0.8,>=0.7.0->vaex) (6.4.10)\n",
      "Requirement already satisfied: pyrsistent!=0.17.0,!=0.17.1,!=0.17.2,>=0.14.0 in /opt/conda/lib/python3.7/site-packages (from jsonschema!=2.5.0,>=2.4->nbformat>=4.2.0->ipywidgets>=7.5.0->bqplot>=0.10.1->vaex-jupyter<0.8,>=0.7.0->vaex) (0.18.1)\n",
      "Requirement already satisfied: attrs>=17.4.0 in /opt/conda/lib/python3.7/site-packages (from jsonschema!=2.5.0,>=2.4->nbformat>=4.2.0->ipywidgets>=7.5.0->bqplot>=0.10.1->vaex-jupyter<0.8,>=0.7.0->vaex) (21.4.0)\n",
      "Requirement already satisfied: importlib-resources>=1.4.0 in /opt/conda/lib/python3.7/site-packages (from jsonschema!=2.5.0,>=2.4->nbformat>=4.2.0->ipywidgets>=7.5.0->bqplot>=0.10.1->vaex-jupyter<0.8,>=0.7.0->vaex) (5.4.0)\n",
      "Requirement already satisfied: entrypoints in /opt/conda/lib/python3.7/site-packages (from jupyter-client<8.0->ipykernel>=4.5.1->ipywidgets>=7.5.0->bqplot>=0.10.1->vaex-jupyter<0.8,>=0.7.0->vaex) (0.4)\n",
      "Requirement already satisfied: pyzmq>=13 in /opt/conda/lib/python3.7/site-packages (from jupyter-client<8.0->ipykernel>=4.5.1->ipywidgets>=7.5.0->bqplot>=0.10.1->vaex-jupyter<0.8,>=0.7.0->vaex) (22.3.0)\n",
      "Requirement already satisfied: nbconvert>=5 in /opt/conda/lib/python3.7/site-packages (from notebook>=4.4.1->widgetsnbextension~=3.5.0->ipywidgets>=7.5.0->bqplot>=0.10.1->vaex-jupyter<0.8,>=0.7.0->vaex) (6.4.4)\n",
      "Requirement already satisfied: terminado>=0.8.3 in /opt/conda/lib/python3.7/site-packages (from notebook>=4.4.1->widgetsnbextension~=3.5.0->ipywidgets>=7.5.0->bqplot>=0.10.1->vaex-jupyter<0.8,>=0.7.0->vaex) (0.13.3)\n",
      "Requirement already satisfied: Send2Trash>=1.8.0 in /opt/conda/lib/python3.7/site-packages (from notebook>=4.4.1->widgetsnbextension~=3.5.0->ipywidgets>=7.5.0->bqplot>=0.10.1->vaex-jupyter<0.8,>=0.7.0->vaex) (1.8.0)\n",
      "Requirement already satisfied: argon2-cffi in /opt/conda/lib/python3.7/site-packages (from notebook>=4.4.1->widgetsnbextension~=3.5.0->ipywidgets>=7.5.0->bqplot>=0.10.1->vaex-jupyter<0.8,>=0.7.0->vaex) (21.3.0)\n",
      "Requirement already satisfied: prometheus-client in /opt/conda/lib/python3.7/site-packages (from notebook>=4.4.1->widgetsnbextension~=3.5.0->ipywidgets>=7.5.0->bqplot>=0.10.1->vaex-jupyter<0.8,>=0.7.0->vaex) (0.13.1)\n",
      "Requirement already satisfied: beautifulsoup4 in /opt/conda/lib/python3.7/site-packages (from nbconvert>=5->notebook>=4.4.1->widgetsnbextension~=3.5.0->ipywidgets>=7.5.0->bqplot>=0.10.1->vaex-jupyter<0.8,>=0.7.0->vaex) (4.10.0)\n",
      "Requirement already satisfied: defusedxml in /opt/conda/lib/python3.7/site-packages (from nbconvert>=5->notebook>=4.4.1->widgetsnbextension~=3.5.0->ipywidgets>=7.5.0->bqplot>=0.10.1->vaex-jupyter<0.8,>=0.7.0->vaex) (0.7.1)\n",
      "Requirement already satisfied: pandocfilters>=1.4.1 in /opt/conda/lib/python3.7/site-packages (from nbconvert>=5->notebook>=4.4.1->widgetsnbextension~=3.5.0->ipywidgets>=7.5.0->bqplot>=0.10.1->vaex-jupyter<0.8,>=0.7.0->vaex) (1.5.0)\n",
      "Requirement already satisfied: jupyterlab-pygments in /opt/conda/lib/python3.7/site-packages (from nbconvert>=5->notebook>=4.4.1->widgetsnbextension~=3.5.0->ipywidgets>=7.5.0->bqplot>=0.10.1->vaex-jupyter<0.8,>=0.7.0->vaex) (0.1.2)\n",
      "Requirement already satisfied: nbclient<0.6.0,>=0.5.0 in /opt/conda/lib/python3.7/site-packages (from nbconvert>=5->notebook>=4.4.1->widgetsnbextension~=3.5.0->ipywidgets>=7.5.0->bqplot>=0.10.1->vaex-jupyter<0.8,>=0.7.0->vaex) (0.5.13)\n",
      "Requirement already satisfied: mistune<2,>=0.8.1 in /opt/conda/lib/python3.7/site-packages (from nbconvert>=5->notebook>=4.4.1->widgetsnbextension~=3.5.0->ipywidgets>=7.5.0->bqplot>=0.10.1->vaex-jupyter<0.8,>=0.7.0->vaex) (0.8.4)\n",
      "Requirement already satisfied: testpath in /opt/conda/lib/python3.7/site-packages (from nbconvert>=5->notebook>=4.4.1->widgetsnbextension~=3.5.0->ipywidgets>=7.5.0->bqplot>=0.10.1->vaex-jupyter<0.8,>=0.7.0->vaex) (0.6.0)\n",
      "Requirement already satisfied: bleach in /opt/conda/lib/python3.7/site-packages (from nbconvert>=5->notebook>=4.4.1->widgetsnbextension~=3.5.0->ipywidgets>=7.5.0->bqplot>=0.10.1->vaex-jupyter<0.8,>=0.7.0->vaex) (4.1.0)\n",
      "Requirement already satisfied: argon2-cffi-bindings in /opt/conda/lib/python3.7/site-packages (from argon2-cffi->notebook>=4.4.1->widgetsnbextension~=3.5.0->ipywidgets>=7.5.0->bqplot>=0.10.1->vaex-jupyter<0.8,>=0.7.0->vaex) (21.2.0)\n",
      "Requirement already satisfied: cffi>=1.0.1 in /opt/conda/lib/python3.7/site-packages (from argon2-cffi-bindings->argon2-cffi->notebook>=4.4.1->widgetsnbextension~=3.5.0->ipywidgets>=7.5.0->bqplot>=0.10.1->vaex-jupyter<0.8,>=0.7.0->vaex) (1.15.0)\n",
      "Requirement already satisfied: soupsieve>1.2 in /opt/conda/lib/python3.7/site-packages (from beautifulsoup4->nbconvert>=5->notebook>=4.4.1->widgetsnbextension~=3.5.0->ipywidgets>=7.5.0->bqplot>=0.10.1->vaex-jupyter<0.8,>=0.7.0->vaex) (2.3.1)\n",
      "Requirement already satisfied: webencodings in /opt/conda/lib/python3.7/site-packages (from bleach->nbconvert>=5->notebook>=4.4.1->widgetsnbextension~=3.5.0->ipywidgets>=7.5.0->bqplot>=0.10.1->vaex-jupyter<0.8,>=0.7.0->vaex) (0.5.1)\n",
      "Requirement already satisfied: pycparser in /opt/conda/lib/python3.7/site-packages (from cffi>=1.0.1->argon2-cffi-bindings->argon2-cffi->notebook>=4.4.1->widgetsnbextension~=3.5.0->ipywidgets>=7.5.0->bqplot>=0.10.1->vaex-jupyter<0.8,>=0.7.0->vaex) (2.21)\n",
      "Note: you may need to restart the kernel to use updated packages.\n"
     ]
    }
   ],
   "source": [
    "%pip install vaex"
   ]
  },
  {
   "cell_type": "code",
   "execution_count": 2,
   "id": "8a531a5e-f65f-41d1-9340-f2aa3011fa08",
   "metadata": {},
   "outputs": [
    {
     "data": {
      "text/html": [
       "<div>\n",
       "<style scoped>\n",
       "    .dataframe tbody tr th:only-of-type {\n",
       "        vertical-align: middle;\n",
       "    }\n",
       "\n",
       "    .dataframe tbody tr th {\n",
       "        vertical-align: top;\n",
       "    }\n",
       "\n",
       "    .dataframe thead th {\n",
       "        text-align: right;\n",
       "    }\n",
       "</style>\n",
       "<table border=\"1\" class=\"dataframe\">\n",
       "  <thead>\n",
       "    <tr style=\"text-align: right;\">\n",
       "      <th></th>\n",
       "      <th>MachineId</th>\n",
       "      <th>MeasurementId</th>\n",
       "      <th>PumpFailed</th>\n",
       "      <th>SlowStart</th>\n",
       "      <th>SlowEnd</th>\n",
       "    </tr>\n",
       "  </thead>\n",
       "  <tbody>\n",
       "    <tr>\n",
       "      <th>0</th>\n",
       "      <td>0_0_0</td>\n",
       "      <td>0</td>\n",
       "      <td>False</td>\n",
       "      <td>False</td>\n",
       "      <td>False</td>\n",
       "    </tr>\n",
       "    <tr>\n",
       "      <th>1</th>\n",
       "      <td>0_0_1</td>\n",
       "      <td>-1</td>\n",
       "      <td>NaN</td>\n",
       "      <td>NaN</td>\n",
       "      <td>NaN</td>\n",
       "    </tr>\n",
       "    <tr>\n",
       "      <th>2</th>\n",
       "      <td>0_0_2</td>\n",
       "      <td>0</td>\n",
       "      <td>False</td>\n",
       "      <td>False</td>\n",
       "      <td>False</td>\n",
       "    </tr>\n",
       "    <tr>\n",
       "      <th>3</th>\n",
       "      <td>0_0_3</td>\n",
       "      <td>0</td>\n",
       "      <td>True</td>\n",
       "      <td>False</td>\n",
       "      <td>False</td>\n",
       "    </tr>\n",
       "    <tr>\n",
       "      <th>4</th>\n",
       "      <td>0_1_0</td>\n",
       "      <td>-1</td>\n",
       "      <td>NaN</td>\n",
       "      <td>NaN</td>\n",
       "      <td>NaN</td>\n",
       "    </tr>\n",
       "    <tr>\n",
       "      <th>...</th>\n",
       "      <td>...</td>\n",
       "      <td>...</td>\n",
       "      <td>...</td>\n",
       "      <td>...</td>\n",
       "      <td>...</td>\n",
       "    </tr>\n",
       "    <tr>\n",
       "      <th>27380</th>\n",
       "      <td>10_0_2</td>\n",
       "      <td>8833</td>\n",
       "      <td>False</td>\n",
       "      <td>False</td>\n",
       "      <td>False</td>\n",
       "    </tr>\n",
       "    <tr>\n",
       "      <th>27381</th>\n",
       "      <td>10_0_3</td>\n",
       "      <td>8833</td>\n",
       "      <td>False</td>\n",
       "      <td>False</td>\n",
       "      <td>False</td>\n",
       "    </tr>\n",
       "    <tr>\n",
       "      <th>27382</th>\n",
       "      <td>10_0_0</td>\n",
       "      <td>8834</td>\n",
       "      <td>False</td>\n",
       "      <td>False</td>\n",
       "      <td>False</td>\n",
       "    </tr>\n",
       "    <tr>\n",
       "      <th>27383</th>\n",
       "      <td>10_0_1</td>\n",
       "      <td>8834</td>\n",
       "      <td>False</td>\n",
       "      <td>False</td>\n",
       "      <td>True</td>\n",
       "    </tr>\n",
       "    <tr>\n",
       "      <th>27384</th>\n",
       "      <td>10_0_3</td>\n",
       "      <td>8834</td>\n",
       "      <td>False</td>\n",
       "      <td>False</td>\n",
       "      <td>False</td>\n",
       "    </tr>\n",
       "  </tbody>\n",
       "</table>\n",
       "<p>27385 rows × 5 columns</p>\n",
       "</div>"
      ],
      "text/plain": [
       "      MachineId  MeasurementId PumpFailed SlowStart SlowEnd\n",
       "0         0_0_0              0      False     False   False\n",
       "1         0_0_1             -1        NaN       NaN     NaN\n",
       "2         0_0_2              0      False     False   False\n",
       "3         0_0_3              0       True     False   False\n",
       "4         0_1_0             -1        NaN       NaN     NaN\n",
       "...         ...            ...        ...       ...     ...\n",
       "27380    10_0_2           8833      False     False   False\n",
       "27381    10_0_3           8833      False     False   False\n",
       "27382    10_0_0           8834      False     False   False\n",
       "27383    10_0_1           8834      False     False    True\n",
       "27384    10_0_3           8834      False     False   False\n",
       "\n",
       "[27385 rows x 5 columns]"
      ]
     },
     "execution_count": 2,
     "metadata": {},
     "output_type": "execute_result"
    }
   ],
   "source": [
    "import pandas as pd \n",
    "import vaex\n",
    "import numpy as np\n",
    "import vaex.ml\n",
    "from vaex.ml.sklearn import Predictor\n",
    "from sklearn.ensemble import GradientBoostingClassifier\n",
    "import pylab as plt\n",
    "df1 = pd.read_csv('labels.csv')\n",
    "df1"
   ]
  },
  {
   "cell_type": "code",
   "execution_count": 3,
   "id": "6f213f7d-277f-482b-820e-261ce74263f9",
   "metadata": {},
   "outputs": [
    {
     "data": {
      "text/plain": [
       "MachineId        0\n",
       "MeasurementId    0\n",
       "PumpFailed       0\n",
       "SlowStart        0\n",
       "SlowEnd          0\n",
       "dtype: int64"
      ]
     },
     "execution_count": 3,
     "metadata": {},
     "output_type": "execute_result"
    }
   ],
   "source": [
    "df1 = df1.fillna(method='bfill',axis=0).fillna(0)\n",
    "df1.isnull().sum()"
   ]
  },
  {
   "cell_type": "code",
   "execution_count": 4,
   "id": "54d2a4f3-3ba5-463e-a117-34f970571b93",
   "metadata": {},
   "outputs": [
    {
     "data": {
      "text/plain": [
       "MachineId        int64\n",
       "MeasurementId    int64\n",
       "PumpFailed       int64\n",
       "SlowStart        int64\n",
       "SlowEnd          int64\n",
       "dtype: object"
      ]
     },
     "execution_count": 4,
     "metadata": {},
     "output_type": "execute_result"
    }
   ],
   "source": [
    "df1 = df1.astype(int)\n",
    "df1.dtypes"
   ]
  },
  {
   "cell_type": "code",
   "execution_count": 5,
   "id": "5fb94b12-44d1-41f4-8114-0778d5afa0c3",
   "metadata": {},
   "outputs": [
    {
     "data": {
      "text/html": [
       "<div>\n",
       "<style scoped>\n",
       "    .dataframe tbody tr th:only-of-type {\n",
       "        vertical-align: middle;\n",
       "    }\n",
       "\n",
       "    .dataframe tbody tr th {\n",
       "        vertical-align: top;\n",
       "    }\n",
       "\n",
       "    .dataframe thead th {\n",
       "        text-align: right;\n",
       "    }\n",
       "</style>\n",
       "<table border=\"1\" class=\"dataframe\">\n",
       "  <thead>\n",
       "    <tr style=\"text-align: right;\">\n",
       "      <th></th>\n",
       "      <th>MachineId</th>\n",
       "      <th>MeasurementId</th>\n",
       "      <th>PumpFailed</th>\n",
       "      <th>SlowStart</th>\n",
       "      <th>SlowEnd</th>\n",
       "    </tr>\n",
       "  </thead>\n",
       "  <tbody>\n",
       "    <tr>\n",
       "      <th>0</th>\n",
       "      <td>0</td>\n",
       "      <td>0</td>\n",
       "      <td>0</td>\n",
       "      <td>0</td>\n",
       "      <td>0</td>\n",
       "    </tr>\n",
       "    <tr>\n",
       "      <th>1</th>\n",
       "      <td>1</td>\n",
       "      <td>-1</td>\n",
       "      <td>0</td>\n",
       "      <td>0</td>\n",
       "      <td>0</td>\n",
       "    </tr>\n",
       "    <tr>\n",
       "      <th>2</th>\n",
       "      <td>2</td>\n",
       "      <td>0</td>\n",
       "      <td>0</td>\n",
       "      <td>0</td>\n",
       "      <td>0</td>\n",
       "    </tr>\n",
       "    <tr>\n",
       "      <th>3</th>\n",
       "      <td>3</td>\n",
       "      <td>0</td>\n",
       "      <td>1</td>\n",
       "      <td>0</td>\n",
       "      <td>0</td>\n",
       "    </tr>\n",
       "    <tr>\n",
       "      <th>4</th>\n",
       "      <td>10</td>\n",
       "      <td>-1</td>\n",
       "      <td>1</td>\n",
       "      <td>0</td>\n",
       "      <td>0</td>\n",
       "    </tr>\n",
       "    <tr>\n",
       "      <th>...</th>\n",
       "      <td>...</td>\n",
       "      <td>...</td>\n",
       "      <td>...</td>\n",
       "      <td>...</td>\n",
       "      <td>...</td>\n",
       "    </tr>\n",
       "    <tr>\n",
       "      <th>27380</th>\n",
       "      <td>1002</td>\n",
       "      <td>8833</td>\n",
       "      <td>0</td>\n",
       "      <td>0</td>\n",
       "      <td>0</td>\n",
       "    </tr>\n",
       "    <tr>\n",
       "      <th>27381</th>\n",
       "      <td>1003</td>\n",
       "      <td>8833</td>\n",
       "      <td>0</td>\n",
       "      <td>0</td>\n",
       "      <td>0</td>\n",
       "    </tr>\n",
       "    <tr>\n",
       "      <th>27382</th>\n",
       "      <td>1000</td>\n",
       "      <td>8834</td>\n",
       "      <td>0</td>\n",
       "      <td>0</td>\n",
       "      <td>0</td>\n",
       "    </tr>\n",
       "    <tr>\n",
       "      <th>27383</th>\n",
       "      <td>1001</td>\n",
       "      <td>8834</td>\n",
       "      <td>0</td>\n",
       "      <td>0</td>\n",
       "      <td>1</td>\n",
       "    </tr>\n",
       "    <tr>\n",
       "      <th>27384</th>\n",
       "      <td>1003</td>\n",
       "      <td>8834</td>\n",
       "      <td>0</td>\n",
       "      <td>0</td>\n",
       "      <td>0</td>\n",
       "    </tr>\n",
       "  </tbody>\n",
       "</table>\n",
       "<p>27385 rows × 5 columns</p>\n",
       "</div>"
      ],
      "text/plain": [
       "       MachineId  MeasurementId  PumpFailed  SlowStart  SlowEnd\n",
       "0              0              0           0          0        0\n",
       "1              1             -1           0          0        0\n",
       "2              2              0           0          0        0\n",
       "3              3              0           1          0        0\n",
       "4             10             -1           1          0        0\n",
       "...          ...            ...         ...        ...      ...\n",
       "27380       1002           8833           0          0        0\n",
       "27381       1003           8833           0          0        0\n",
       "27382       1000           8834           0          0        0\n",
       "27383       1001           8834           0          0        1\n",
       "27384       1003           8834           0          0        0\n",
       "\n",
       "[27385 rows x 5 columns]"
      ]
     },
     "execution_count": 5,
     "metadata": {},
     "output_type": "execute_result"
    }
   ],
   "source": [
    "df1"
   ]
  },
  {
   "cell_type": "code",
   "execution_count": 6,
   "id": "b621bcdb-ae5d-40d3-82a8-7fcb277d53e4",
   "metadata": {},
   "outputs": [],
   "source": [
    "df_full = vaex.from_pandas(df1)"
   ]
  },
  {
   "cell_type": "code",
   "execution_count": 7,
   "id": "d1152158-cb9f-4858-822b-21e49e6a6dcd",
   "metadata": {},
   "outputs": [
    {
     "data": {
      "text/html": [
       "<table>\n",
       "<thead>\n",
       "<tr><th>#                                 </th><th>MachineId  </th><th>MeasurementId  </th><th>PumpFailed  </th><th>SlowStart  </th><th>SlowEnd  </th></tr>\n",
       "</thead>\n",
       "<tbody>\n",
       "<tr><td><i style='opacity: 0.6'>0</i>     </td><td>0          </td><td>0              </td><td>0           </td><td>0          </td><td>0        </td></tr>\n",
       "<tr><td><i style='opacity: 0.6'>1</i>     </td><td>1          </td><td>-1             </td><td>0           </td><td>0          </td><td>0        </td></tr>\n",
       "<tr><td><i style='opacity: 0.6'>2</i>     </td><td>2          </td><td>0              </td><td>0           </td><td>0          </td><td>0        </td></tr>\n",
       "<tr><td><i style='opacity: 0.6'>3</i>     </td><td>3          </td><td>0              </td><td>1           </td><td>0          </td><td>0        </td></tr>\n",
       "<tr><td><i style='opacity: 0.6'>4</i>     </td><td>10         </td><td>-1             </td><td>1           </td><td>0          </td><td>0        </td></tr>\n",
       "<tr><td>...                               </td><td>...        </td><td>...            </td><td>...         </td><td>...        </td><td>...      </td></tr>\n",
       "<tr><td><i style='opacity: 0.6'>27,380</i></td><td>1002       </td><td>8833           </td><td>0           </td><td>0          </td><td>0        </td></tr>\n",
       "<tr><td><i style='opacity: 0.6'>27,381</i></td><td>1003       </td><td>8833           </td><td>0           </td><td>0          </td><td>0        </td></tr>\n",
       "<tr><td><i style='opacity: 0.6'>27,382</i></td><td>1000       </td><td>8834           </td><td>0           </td><td>0          </td><td>0        </td></tr>\n",
       "<tr><td><i style='opacity: 0.6'>27,383</i></td><td>1001       </td><td>8834           </td><td>0           </td><td>0          </td><td>1        </td></tr>\n",
       "<tr><td><i style='opacity: 0.6'>27,384</i></td><td>1003       </td><td>8834           </td><td>0           </td><td>0          </td><td>0        </td></tr>\n",
       "</tbody>\n",
       "</table>"
      ],
      "text/plain": [
       "#       MachineId    MeasurementId    PumpFailed    SlowStart    SlowEnd\n",
       "0       0            0                0             0            0\n",
       "1       1            -1               0             0            0\n",
       "2       2            0                0             0            0\n",
       "3       3            0                1             0            0\n",
       "4       10           -1               1             0            0\n",
       "...     ...          ...              ...           ...          ...\n",
       "27,380  1002         8833             0             0            0\n",
       "27,381  1003         8833             0             0            0\n",
       "27,382  1000         8834             0             0            0\n",
       "27,383  1001         8834             0             0            1\n",
       "27,384  1003         8834             0             0            0"
      ]
     },
     "execution_count": 7,
     "metadata": {},
     "output_type": "execute_result"
    }
   ],
   "source": [
    "df_full"
   ]
  },
  {
   "cell_type": "code",
   "execution_count": 8,
   "id": "b4e7dd1a-78a6-46ff-bdaa-74e50da604b9",
   "metadata": {},
   "outputs": [],
   "source": [
    "df2 = pd.read_parquet('data.parquet')\n",
    "df2.to_csv('data.csv')"
   ]
  },
  {
   "cell_type": "code",
   "execution_count": 9,
   "id": "e8f69d94-829a-4e73-b913-d02547689760",
   "metadata": {},
   "outputs": [
    {
     "data": {
      "text/html": [
       "<div>\n",
       "<style scoped>\n",
       "    .dataframe tbody tr th:only-of-type {\n",
       "        vertical-align: middle;\n",
       "    }\n",
       "\n",
       "    .dataframe tbody tr th {\n",
       "        vertical-align: top;\n",
       "    }\n",
       "\n",
       "    .dataframe thead th {\n",
       "        text-align: right;\n",
       "    }\n",
       "</style>\n",
       "<table border=\"1\" class=\"dataframe\">\n",
       "  <thead>\n",
       "    <tr style=\"text-align: right;\">\n",
       "      <th></th>\n",
       "      <th>MachineId</th>\n",
       "      <th>MeasurementId</th>\n",
       "      <th>Pressure</th>\n",
       "    </tr>\n",
       "  </thead>\n",
       "  <tbody>\n",
       "    <tr>\n",
       "      <th>0</th>\n",
       "      <td>0_0_0</td>\n",
       "      <td>0</td>\n",
       "      <td>0.0</td>\n",
       "    </tr>\n",
       "    <tr>\n",
       "      <th>1</th>\n",
       "      <td>0_0_0</td>\n",
       "      <td>0</td>\n",
       "      <td>0.0</td>\n",
       "    </tr>\n",
       "    <tr>\n",
       "      <th>2</th>\n",
       "      <td>0_0_0</td>\n",
       "      <td>0</td>\n",
       "      <td>0.0</td>\n",
       "    </tr>\n",
       "    <tr>\n",
       "      <th>3</th>\n",
       "      <td>0_0_0</td>\n",
       "      <td>0</td>\n",
       "      <td>0.0</td>\n",
       "    </tr>\n",
       "    <tr>\n",
       "      <th>4</th>\n",
       "      <td>0_0_0</td>\n",
       "      <td>0</td>\n",
       "      <td>0.0</td>\n",
       "    </tr>\n",
       "    <tr>\n",
       "      <th>...</th>\n",
       "      <td>...</td>\n",
       "      <td>...</td>\n",
       "      <td>...</td>\n",
       "    </tr>\n",
       "    <tr>\n",
       "      <th>18466359</th>\n",
       "      <td>10_0_3</td>\n",
       "      <td>8834</td>\n",
       "      <td>0.0</td>\n",
       "    </tr>\n",
       "    <tr>\n",
       "      <th>18466360</th>\n",
       "      <td>10_0_3</td>\n",
       "      <td>8834</td>\n",
       "      <td>0.0</td>\n",
       "    </tr>\n",
       "    <tr>\n",
       "      <th>18466361</th>\n",
       "      <td>10_0_3</td>\n",
       "      <td>8834</td>\n",
       "      <td>0.0</td>\n",
       "    </tr>\n",
       "    <tr>\n",
       "      <th>18466362</th>\n",
       "      <td>10_0_3</td>\n",
       "      <td>8834</td>\n",
       "      <td>0.0</td>\n",
       "    </tr>\n",
       "    <tr>\n",
       "      <th>18466363</th>\n",
       "      <td>10_0_3</td>\n",
       "      <td>8834</td>\n",
       "      <td>0.0</td>\n",
       "    </tr>\n",
       "  </tbody>\n",
       "</table>\n",
       "<p>18466364 rows × 3 columns</p>\n",
       "</div>"
      ],
      "text/plain": [
       "         MachineId  MeasurementId  Pressure\n",
       "0            0_0_0              0       0.0\n",
       "1            0_0_0              0       0.0\n",
       "2            0_0_0              0       0.0\n",
       "3            0_0_0              0       0.0\n",
       "4            0_0_0              0       0.0\n",
       "...            ...            ...       ...\n",
       "18466359    10_0_3           8834       0.0\n",
       "18466360    10_0_3           8834       0.0\n",
       "18466361    10_0_3           8834       0.0\n",
       "18466362    10_0_3           8834       0.0\n",
       "18466363    10_0_3           8834       0.0\n",
       "\n",
       "[18466364 rows x 3 columns]"
      ]
     },
     "execution_count": 9,
     "metadata": {},
     "output_type": "execute_result"
    }
   ],
   "source": [
    "df2"
   ]
  },
  {
   "cell_type": "code",
   "execution_count": 10,
   "id": "f348a3b5-ef48-471e-8b35-2b2d441c618c",
   "metadata": {},
   "outputs": [
    {
     "data": {
      "text/plain": [
       "MachineId         object\n",
       "MeasurementId      int64\n",
       "Pressure         float64\n",
       "dtype: object"
      ]
     },
     "execution_count": 10,
     "metadata": {},
     "output_type": "execute_result"
    }
   ],
   "source": [
    "df2.dtypes"
   ]
  },
  {
   "cell_type": "code",
   "execution_count": 11,
   "id": "9b54c5dc-9379-441e-8c62-2463867242a6",
   "metadata": {},
   "outputs": [
    {
     "data": {
      "text/plain": [
       "MachineId        0\n",
       "MeasurementId    0\n",
       "Pressure         0\n",
       "dtype: int64"
      ]
     },
     "execution_count": 11,
     "metadata": {},
     "output_type": "execute_result"
    }
   ],
   "source": [
    "df2.isnull().sum()"
   ]
  },
  {
   "cell_type": "code",
   "execution_count": 12,
   "id": "99d67dbc-6a24-4437-9f92-3041e93ff224",
   "metadata": {},
   "outputs": [
    {
     "data": {
      "text/plain": [
       "MachineId        int64\n",
       "MeasurementId    int64\n",
       "Pressure         int64\n",
       "dtype: object"
      ]
     },
     "execution_count": 12,
     "metadata": {},
     "output_type": "execute_result"
    }
   ],
   "source": [
    "df2 = df2.astype(int)\n",
    "df2.dtypes"
   ]
  },
  {
   "cell_type": "code",
   "execution_count": 13,
   "id": "73969d04-957e-4475-8ba9-389401eec0a4",
   "metadata": {},
   "outputs": [
    {
     "data": {
      "text/html": [
       "<div>\n",
       "<style scoped>\n",
       "    .dataframe tbody tr th:only-of-type {\n",
       "        vertical-align: middle;\n",
       "    }\n",
       "\n",
       "    .dataframe tbody tr th {\n",
       "        vertical-align: top;\n",
       "    }\n",
       "\n",
       "    .dataframe thead th {\n",
       "        text-align: right;\n",
       "    }\n",
       "</style>\n",
       "<table border=\"1\" class=\"dataframe\">\n",
       "  <thead>\n",
       "    <tr style=\"text-align: right;\">\n",
       "      <th></th>\n",
       "      <th>MachineId</th>\n",
       "      <th>MeasurementId</th>\n",
       "      <th>Pressure</th>\n",
       "    </tr>\n",
       "  </thead>\n",
       "  <tbody>\n",
       "    <tr>\n",
       "      <th>0</th>\n",
       "      <td>0</td>\n",
       "      <td>0</td>\n",
       "      <td>0</td>\n",
       "    </tr>\n",
       "    <tr>\n",
       "      <th>1</th>\n",
       "      <td>0</td>\n",
       "      <td>0</td>\n",
       "      <td>0</td>\n",
       "    </tr>\n",
       "    <tr>\n",
       "      <th>2</th>\n",
       "      <td>0</td>\n",
       "      <td>0</td>\n",
       "      <td>0</td>\n",
       "    </tr>\n",
       "    <tr>\n",
       "      <th>3</th>\n",
       "      <td>0</td>\n",
       "      <td>0</td>\n",
       "      <td>0</td>\n",
       "    </tr>\n",
       "    <tr>\n",
       "      <th>4</th>\n",
       "      <td>0</td>\n",
       "      <td>0</td>\n",
       "      <td>0</td>\n",
       "    </tr>\n",
       "    <tr>\n",
       "      <th>...</th>\n",
       "      <td>...</td>\n",
       "      <td>...</td>\n",
       "      <td>...</td>\n",
       "    </tr>\n",
       "    <tr>\n",
       "      <th>18466359</th>\n",
       "      <td>1003</td>\n",
       "      <td>8834</td>\n",
       "      <td>0</td>\n",
       "    </tr>\n",
       "    <tr>\n",
       "      <th>18466360</th>\n",
       "      <td>1003</td>\n",
       "      <td>8834</td>\n",
       "      <td>0</td>\n",
       "    </tr>\n",
       "    <tr>\n",
       "      <th>18466361</th>\n",
       "      <td>1003</td>\n",
       "      <td>8834</td>\n",
       "      <td>0</td>\n",
       "    </tr>\n",
       "    <tr>\n",
       "      <th>18466362</th>\n",
       "      <td>1003</td>\n",
       "      <td>8834</td>\n",
       "      <td>0</td>\n",
       "    </tr>\n",
       "    <tr>\n",
       "      <th>18466363</th>\n",
       "      <td>1003</td>\n",
       "      <td>8834</td>\n",
       "      <td>0</td>\n",
       "    </tr>\n",
       "  </tbody>\n",
       "</table>\n",
       "<p>18466364 rows × 3 columns</p>\n",
       "</div>"
      ],
      "text/plain": [
       "          MachineId  MeasurementId  Pressure\n",
       "0                 0              0         0\n",
       "1                 0              0         0\n",
       "2                 0              0         0\n",
       "3                 0              0         0\n",
       "4                 0              0         0\n",
       "...             ...            ...       ...\n",
       "18466359       1003           8834         0\n",
       "18466360       1003           8834         0\n",
       "18466361       1003           8834         0\n",
       "18466362       1003           8834         0\n",
       "18466363       1003           8834         0\n",
       "\n",
       "[18466364 rows x 3 columns]"
      ]
     },
     "execution_count": 13,
     "metadata": {},
     "output_type": "execute_result"
    }
   ],
   "source": [
    "df2"
   ]
  },
  {
   "cell_type": "code",
   "execution_count": 14,
   "id": "b0d8632e-ca10-4693-a1cc-9e2caec9b96f",
   "metadata": {},
   "outputs": [],
   "source": [
    "df_full_2 = vaex.from_pandas(df2)"
   ]
  },
  {
   "cell_type": "code",
   "execution_count": 15,
   "id": "e6b4d127-9f82-428b-85ab-74436e272a60",
   "metadata": {},
   "outputs": [
    {
     "data": {
      "text/html": [
       "<table>\n",
       "<thead>\n",
       "<tr><th>#                                     </th><th>MachineId  </th><th>MeasurementId  </th><th>PumpFailed  </th><th>SlowStart  </th><th>SlowEnd  </th><th>Pressure  </th></tr>\n",
       "</thead>\n",
       "<tbody>\n",
       "<tr><td><i style='opacity: 0.6'>0</i>         </td><td>0          </td><td>0              </td><td>0           </td><td>0          </td><td>0        </td><td>--        </td></tr>\n",
       "<tr><td><i style='opacity: 0.6'>1</i>         </td><td>1          </td><td>-1             </td><td>0           </td><td>0          </td><td>0        </td><td>--        </td></tr>\n",
       "<tr><td><i style='opacity: 0.6'>2</i>         </td><td>2          </td><td>0              </td><td>0           </td><td>0          </td><td>0        </td><td>--        </td></tr>\n",
       "<tr><td><i style='opacity: 0.6'>3</i>         </td><td>3          </td><td>0              </td><td>1           </td><td>0          </td><td>0        </td><td>--        </td></tr>\n",
       "<tr><td><i style='opacity: 0.6'>4</i>         </td><td>10         </td><td>-1             </td><td>1           </td><td>0          </td><td>0        </td><td>--        </td></tr>\n",
       "<tr><td>...                                   </td><td>...        </td><td>...            </td><td>...         </td><td>...        </td><td>...      </td><td>...       </td></tr>\n",
       "<tr><td><i style='opacity: 0.6'>18,493,744</i></td><td>1003       </td><td>8834           </td><td>--          </td><td>--         </td><td>--       </td><td>0         </td></tr>\n",
       "<tr><td><i style='opacity: 0.6'>18,493,745</i></td><td>1003       </td><td>8834           </td><td>--          </td><td>--         </td><td>--       </td><td>0         </td></tr>\n",
       "<tr><td><i style='opacity: 0.6'>18,493,746</i></td><td>1003       </td><td>8834           </td><td>--          </td><td>--         </td><td>--       </td><td>0         </td></tr>\n",
       "<tr><td><i style='opacity: 0.6'>18,493,747</i></td><td>1003       </td><td>8834           </td><td>--          </td><td>--         </td><td>--       </td><td>0         </td></tr>\n",
       "<tr><td><i style='opacity: 0.6'>18,493,748</i></td><td>1003       </td><td>8834           </td><td>--          </td><td>--         </td><td>--       </td><td>0         </td></tr>\n",
       "</tbody>\n",
       "</table>"
      ],
      "text/plain": [
       "#           MachineId    MeasurementId    PumpFailed    SlowStart    SlowEnd    Pressure\n",
       "0           0            0                0             0            0          --\n",
       "1           1            -1               0             0            0          --\n",
       "2           2            0                0             0            0          --\n",
       "3           3            0                1             0            0          --\n",
       "4           10           -1               1             0            0          --\n",
       "...         ...          ...              ...           ...          ...        ...\n",
       "18,493,744  1003         8834             --            --           --         0\n",
       "18,493,745  1003         8834             --            --           --         0\n",
       "18,493,746  1003         8834             --            --           --         0\n",
       "18,493,747  1003         8834             --            --           --         0\n",
       "18,493,748  1003         8834             --            --           --         0"
      ]
     },
     "execution_count": 15,
     "metadata": {},
     "output_type": "execute_result"
    }
   ],
   "source": [
    "#The place where I made a \"mistake\"\n",
    "data = vaex.concat([df_full,df_full_2],resolver='flexible') \n",
    "data"
   ]
  },
  {
   "cell_type": "code",
   "execution_count": 16,
   "id": "831b8e2b-0a0d-4d76-9b1c-3c70c6e16b66",
   "metadata": {},
   "outputs": [
    {
     "data": {
      "text/html": [
       "<div>\n",
       "<style scoped>\n",
       "    .dataframe tbody tr th:only-of-type {\n",
       "        vertical-align: middle;\n",
       "    }\n",
       "\n",
       "    .dataframe tbody tr th {\n",
       "        vertical-align: top;\n",
       "    }\n",
       "\n",
       "    .dataframe thead th {\n",
       "        text-align: right;\n",
       "    }\n",
       "</style>\n",
       "<table border=\"1\" class=\"dataframe\">\n",
       "  <thead>\n",
       "    <tr style=\"text-align: right;\">\n",
       "      <th></th>\n",
       "      <th>MachineId</th>\n",
       "      <th>MeasurementId</th>\n",
       "      <th>PumpFailed</th>\n",
       "      <th>SlowStart</th>\n",
       "      <th>SlowEnd</th>\n",
       "      <th>Pressure</th>\n",
       "    </tr>\n",
       "  </thead>\n",
       "  <tbody>\n",
       "    <tr>\n",
       "      <th>0</th>\n",
       "      <td>0</td>\n",
       "      <td>0</td>\n",
       "      <td>0.0</td>\n",
       "      <td>0.0</td>\n",
       "      <td>0.0</td>\n",
       "      <td>NaN</td>\n",
       "    </tr>\n",
       "    <tr>\n",
       "      <th>1</th>\n",
       "      <td>1</td>\n",
       "      <td>-1</td>\n",
       "      <td>0.0</td>\n",
       "      <td>0.0</td>\n",
       "      <td>0.0</td>\n",
       "      <td>NaN</td>\n",
       "    </tr>\n",
       "    <tr>\n",
       "      <th>2</th>\n",
       "      <td>2</td>\n",
       "      <td>0</td>\n",
       "      <td>0.0</td>\n",
       "      <td>0.0</td>\n",
       "      <td>0.0</td>\n",
       "      <td>NaN</td>\n",
       "    </tr>\n",
       "    <tr>\n",
       "      <th>3</th>\n",
       "      <td>3</td>\n",
       "      <td>0</td>\n",
       "      <td>1.0</td>\n",
       "      <td>0.0</td>\n",
       "      <td>0.0</td>\n",
       "      <td>NaN</td>\n",
       "    </tr>\n",
       "    <tr>\n",
       "      <th>4</th>\n",
       "      <td>10</td>\n",
       "      <td>-1</td>\n",
       "      <td>1.0</td>\n",
       "      <td>0.0</td>\n",
       "      <td>0.0</td>\n",
       "      <td>NaN</td>\n",
       "    </tr>\n",
       "    <tr>\n",
       "      <th>...</th>\n",
       "      <td>...</td>\n",
       "      <td>...</td>\n",
       "      <td>...</td>\n",
       "      <td>...</td>\n",
       "      <td>...</td>\n",
       "      <td>...</td>\n",
       "    </tr>\n",
       "    <tr>\n",
       "      <th>18493744</th>\n",
       "      <td>1003</td>\n",
       "      <td>8834</td>\n",
       "      <td>NaN</td>\n",
       "      <td>NaN</td>\n",
       "      <td>NaN</td>\n",
       "      <td>0.0</td>\n",
       "    </tr>\n",
       "    <tr>\n",
       "      <th>18493745</th>\n",
       "      <td>1003</td>\n",
       "      <td>8834</td>\n",
       "      <td>NaN</td>\n",
       "      <td>NaN</td>\n",
       "      <td>NaN</td>\n",
       "      <td>0.0</td>\n",
       "    </tr>\n",
       "    <tr>\n",
       "      <th>18493746</th>\n",
       "      <td>1003</td>\n",
       "      <td>8834</td>\n",
       "      <td>NaN</td>\n",
       "      <td>NaN</td>\n",
       "      <td>NaN</td>\n",
       "      <td>0.0</td>\n",
       "    </tr>\n",
       "    <tr>\n",
       "      <th>18493747</th>\n",
       "      <td>1003</td>\n",
       "      <td>8834</td>\n",
       "      <td>NaN</td>\n",
       "      <td>NaN</td>\n",
       "      <td>NaN</td>\n",
       "      <td>0.0</td>\n",
       "    </tr>\n",
       "    <tr>\n",
       "      <th>18493748</th>\n",
       "      <td>1003</td>\n",
       "      <td>8834</td>\n",
       "      <td>NaN</td>\n",
       "      <td>NaN</td>\n",
       "      <td>NaN</td>\n",
       "      <td>0.0</td>\n",
       "    </tr>\n",
       "  </tbody>\n",
       "</table>\n",
       "<p>18493749 rows × 6 columns</p>\n",
       "</div>"
      ],
      "text/plain": [
       "          MachineId  MeasurementId  PumpFailed  SlowStart  SlowEnd  Pressure\n",
       "0                 0              0         0.0        0.0      0.0       NaN\n",
       "1                 1             -1         0.0        0.0      0.0       NaN\n",
       "2                 2              0         0.0        0.0      0.0       NaN\n",
       "3                 3              0         1.0        0.0      0.0       NaN\n",
       "4                10             -1         1.0        0.0      0.0       NaN\n",
       "...             ...            ...         ...        ...      ...       ...\n",
       "18493744       1003           8834         NaN        NaN      NaN       0.0\n",
       "18493745       1003           8834         NaN        NaN      NaN       0.0\n",
       "18493746       1003           8834         NaN        NaN      NaN       0.0\n",
       "18493747       1003           8834         NaN        NaN      NaN       0.0\n",
       "18493748       1003           8834         NaN        NaN      NaN       0.0\n",
       "\n",
       "[18493749 rows x 6 columns]"
      ]
     },
     "execution_count": 16,
     "metadata": {},
     "output_type": "execute_result"
    }
   ],
   "source": [
    "df_fill = data.to_pandas_df()\n",
    "df_fill"
   ]
  },
  {
   "cell_type": "code",
   "execution_count": 17,
   "id": "8230d2cb-5c7d-49f8-8334-51009d32b0a7",
   "metadata": {},
   "outputs": [
    {
     "data": {
      "text/plain": [
       "MachineId        0\n",
       "MeasurementId    0\n",
       "PumpFailed       0\n",
       "SlowStart        0\n",
       "SlowEnd          0\n",
       "Pressure         0\n",
       "dtype: int64"
      ]
     },
     "execution_count": 17,
     "metadata": {},
     "output_type": "execute_result"
    }
   ],
   "source": [
    "df_fill = df_fill.fillna(method='bfill',axis=0).fillna(0)\n",
    "df_fill.isnull().sum()"
   ]
  },
  {
   "cell_type": "code",
   "execution_count": 18,
   "id": "e97602b9-338b-4823-9606-c177df05d522",
   "metadata": {},
   "outputs": [
    {
     "data": {
      "text/plain": [
       "array([0., 1., 2., 3., 4., 5., 6.])"
      ]
     },
     "execution_count": 18,
     "metadata": {},
     "output_type": "execute_result"
    }
   ],
   "source": [
    "df_fill.Pressure.unique()"
   ]
  },
  {
   "cell_type": "code",
   "execution_count": 19,
   "id": "84a937cc-490b-44a2-aa9d-f819fa130bfc",
   "metadata": {},
   "outputs": [
    {
     "data": {
      "text/html": [
       "<div>\n",
       "<style scoped>\n",
       "    .dataframe tbody tr th:only-of-type {\n",
       "        vertical-align: middle;\n",
       "    }\n",
       "\n",
       "    .dataframe tbody tr th {\n",
       "        vertical-align: top;\n",
       "    }\n",
       "\n",
       "    .dataframe thead th {\n",
       "        text-align: right;\n",
       "    }\n",
       "</style>\n",
       "<table border=\"1\" class=\"dataframe\">\n",
       "  <thead>\n",
       "    <tr style=\"text-align: right;\">\n",
       "      <th></th>\n",
       "      <th>MachineId</th>\n",
       "      <th>MeasurementId</th>\n",
       "      <th>PumpFailed</th>\n",
       "      <th>SlowStart</th>\n",
       "      <th>SlowEnd</th>\n",
       "      <th>Pressure</th>\n",
       "    </tr>\n",
       "  </thead>\n",
       "  <tbody>\n",
       "    <tr>\n",
       "      <th>0</th>\n",
       "      <td>0</td>\n",
       "      <td>0</td>\n",
       "      <td>0.0</td>\n",
       "      <td>0.0</td>\n",
       "      <td>0.0</td>\n",
       "      <td>0.0</td>\n",
       "    </tr>\n",
       "    <tr>\n",
       "      <th>1</th>\n",
       "      <td>1</td>\n",
       "      <td>-1</td>\n",
       "      <td>0.0</td>\n",
       "      <td>0.0</td>\n",
       "      <td>0.0</td>\n",
       "      <td>0.0</td>\n",
       "    </tr>\n",
       "    <tr>\n",
       "      <th>2</th>\n",
       "      <td>2</td>\n",
       "      <td>0</td>\n",
       "      <td>0.0</td>\n",
       "      <td>0.0</td>\n",
       "      <td>0.0</td>\n",
       "      <td>0.0</td>\n",
       "    </tr>\n",
       "    <tr>\n",
       "      <th>3</th>\n",
       "      <td>3</td>\n",
       "      <td>0</td>\n",
       "      <td>1.0</td>\n",
       "      <td>0.0</td>\n",
       "      <td>0.0</td>\n",
       "      <td>0.0</td>\n",
       "    </tr>\n",
       "    <tr>\n",
       "      <th>4</th>\n",
       "      <td>10</td>\n",
       "      <td>-1</td>\n",
       "      <td>1.0</td>\n",
       "      <td>0.0</td>\n",
       "      <td>0.0</td>\n",
       "      <td>0.0</td>\n",
       "    </tr>\n",
       "    <tr>\n",
       "      <th>...</th>\n",
       "      <td>...</td>\n",
       "      <td>...</td>\n",
       "      <td>...</td>\n",
       "      <td>...</td>\n",
       "      <td>...</td>\n",
       "      <td>...</td>\n",
       "    </tr>\n",
       "    <tr>\n",
       "      <th>25451</th>\n",
       "      <td>2203</td>\n",
       "      <td>8232</td>\n",
       "      <td>0.0</td>\n",
       "      <td>0.0</td>\n",
       "      <td>0.0</td>\n",
       "      <td>0.0</td>\n",
       "    </tr>\n",
       "    <tr>\n",
       "      <th>25786</th>\n",
       "      <td>1500</td>\n",
       "      <td>-1</td>\n",
       "      <td>0.0</td>\n",
       "      <td>0.0</td>\n",
       "      <td>1.0</td>\n",
       "      <td>0.0</td>\n",
       "    </tr>\n",
       "    <tr>\n",
       "      <th>25787</th>\n",
       "      <td>1501</td>\n",
       "      <td>8336</td>\n",
       "      <td>0.0</td>\n",
       "      <td>0.0</td>\n",
       "      <td>1.0</td>\n",
       "      <td>0.0</td>\n",
       "    </tr>\n",
       "    <tr>\n",
       "      <th>25788</th>\n",
       "      <td>1502</td>\n",
       "      <td>-1</td>\n",
       "      <td>0.0</td>\n",
       "      <td>0.0</td>\n",
       "      <td>0.0</td>\n",
       "      <td>0.0</td>\n",
       "    </tr>\n",
       "    <tr>\n",
       "      <th>25789</th>\n",
       "      <td>1503</td>\n",
       "      <td>-1</td>\n",
       "      <td>0.0</td>\n",
       "      <td>0.0</td>\n",
       "      <td>0.0</td>\n",
       "      <td>0.0</td>\n",
       "    </tr>\n",
       "  </tbody>\n",
       "</table>\n",
       "<p>556 rows × 6 columns</p>\n",
       "</div>"
      ],
      "text/plain": [
       "       MachineId  MeasurementId  PumpFailed  SlowStart  SlowEnd  Pressure\n",
       "0              0              0         0.0        0.0      0.0       0.0\n",
       "1              1             -1         0.0        0.0      0.0       0.0\n",
       "2              2              0         0.0        0.0      0.0       0.0\n",
       "3              3              0         1.0        0.0      0.0       0.0\n",
       "4             10             -1         1.0        0.0      0.0       0.0\n",
       "...          ...            ...         ...        ...      ...       ...\n",
       "25451       2203           8232         0.0        0.0      0.0       0.0\n",
       "25786       1500             -1         0.0        0.0      1.0       0.0\n",
       "25787       1501           8336         0.0        0.0      1.0       0.0\n",
       "25788       1502             -1         0.0        0.0      0.0       0.0\n",
       "25789       1503             -1         0.0        0.0      0.0       0.0\n",
       "\n",
       "[556 rows x 6 columns]"
      ]
     },
     "execution_count": 19,
     "metadata": {},
     "output_type": "execute_result"
    }
   ],
   "source": [
    "dataframe = df_fill.drop_duplicates(subset='MachineId',keep='first',inplace=False)\n",
    "dataframe"
   ]
  },
  {
   "cell_type": "code",
   "execution_count": 20,
   "id": "4152f646-0ce6-4795-aed2-f2df1dc525c0",
   "metadata": {},
   "outputs": [
    {
     "data": {
      "text/plain": [
       "array([0.])"
      ]
     },
     "execution_count": 20,
     "metadata": {},
     "output_type": "execute_result"
    }
   ],
   "source": [
    "dataframe.Pressure.unique()"
   ]
  },
  {
   "cell_type": "code",
   "execution_count": 21,
   "id": "e833a144-90e2-4df2-89db-383872df1f95",
   "metadata": {},
   "outputs": [
    {
     "data": {
      "text/html": [
       "<table>\n",
       "<thead>\n",
       "<tr><th>#                              </th><th>MachineId  </th><th>MeasurementId  </th><th>PumpFailed  </th><th>SlowStart  </th><th>SlowEnd  </th><th>Pressure  </th></tr>\n",
       "</thead>\n",
       "<tbody>\n",
       "<tr><td><i style='opacity: 0.6'>0</i>  </td><td>0          </td><td>0              </td><td>0.0         </td><td>0.0        </td><td>0.0      </td><td>0.0       </td></tr>\n",
       "<tr><td><i style='opacity: 0.6'>1</i>  </td><td>1          </td><td>-1             </td><td>0.0         </td><td>0.0        </td><td>0.0      </td><td>0.0       </td></tr>\n",
       "<tr><td><i style='opacity: 0.6'>2</i>  </td><td>2          </td><td>0              </td><td>0.0         </td><td>0.0        </td><td>0.0      </td><td>0.0       </td></tr>\n",
       "<tr><td><i style='opacity: 0.6'>3</i>  </td><td>3          </td><td>0              </td><td>1.0         </td><td>0.0        </td><td>0.0      </td><td>0.0       </td></tr>\n",
       "<tr><td><i style='opacity: 0.6'>4</i>  </td><td>10         </td><td>-1             </td><td>1.0         </td><td>0.0        </td><td>0.0      </td><td>0.0       </td></tr>\n",
       "<tr><td>...                            </td><td>...        </td><td>...            </td><td>...         </td><td>...        </td><td>...      </td><td>...       </td></tr>\n",
       "<tr><td><i style='opacity: 0.6'>551</i></td><td>2203       </td><td>8232           </td><td>0.0         </td><td>0.0        </td><td>0.0      </td><td>0.0       </td></tr>\n",
       "<tr><td><i style='opacity: 0.6'>552</i></td><td>1500       </td><td>-1             </td><td>0.0         </td><td>0.0        </td><td>1.0      </td><td>0.0       </td></tr>\n",
       "<tr><td><i style='opacity: 0.6'>553</i></td><td>1501       </td><td>8336           </td><td>0.0         </td><td>0.0        </td><td>1.0      </td><td>0.0       </td></tr>\n",
       "<tr><td><i style='opacity: 0.6'>554</i></td><td>1502       </td><td>-1             </td><td>0.0         </td><td>0.0        </td><td>0.0      </td><td>0.0       </td></tr>\n",
       "<tr><td><i style='opacity: 0.6'>555</i></td><td>1503       </td><td>-1             </td><td>0.0         </td><td>0.0        </td><td>0.0      </td><td>0.0       </td></tr>\n",
       "</tbody>\n",
       "</table>"
      ],
      "text/plain": [
       "#    MachineId    MeasurementId    PumpFailed    SlowStart    SlowEnd    Pressure\n",
       "0    0            0                0.0           0.0          0.0        0.0\n",
       "1    1            -1               0.0           0.0          0.0        0.0\n",
       "2    2            0                0.0           0.0          0.0        0.0\n",
       "3    3            0                1.0           0.0          0.0        0.0\n",
       "4    10           -1               1.0           0.0          0.0        0.0\n",
       "...  ...          ...              ...           ...          ...        ...\n",
       "551  2203         8232             0.0           0.0          0.0        0.0\n",
       "552  1500         -1               0.0           0.0          1.0        0.0\n",
       "553  1501         8336             0.0           0.0          1.0        0.0\n",
       "554  1502         -1               0.0           0.0          0.0        0.0\n",
       "555  1503         -1               0.0           0.0          0.0        0.0"
      ]
     },
     "execution_count": 21,
     "metadata": {},
     "output_type": "execute_result"
    }
   ],
   "source": [
    "df = vaex.from_pandas(dataframe)\n",
    "df"
   ]
  },
  {
   "cell_type": "code",
   "execution_count": 22,
   "id": "05efdc00-ead1-45e6-9440-35dee06d87d7",
   "metadata": {},
   "outputs": [],
   "source": [
    "df_train,df_test = df.ml.train_test_split(test_size=0.3,verbose=False)"
   ]
  },
  {
   "cell_type": "code",
   "execution_count": 23,
   "id": "92e40d30-a291-4b87-8906-ab7691f0db17",
   "metadata": {},
   "outputs": [
    {
     "data": {
      "image/png": "[encoded data removed]",
      "text/plain": [
       "<Figure size 864x288 with 2 Axes>"
      ]
     },
     "metadata": {
      "needs_background": "light"
     },
     "output_type": "display_data"
    }
   ],
   "source": [
    "# Inspect the target variable \n",
    "train_pumpfailed_value_counts = df_train.PumpFailed.value_counts()\n",
    "test_pumpfailed_value_counts = df_test.PumpFailed.value_counts()\n",
    "\n",
    "plt.figure(figsize=(12,4))\n",
    "plt.subplot(121)\n",
    "\n",
    "train_pumpfailed_value_counts.plot.bar()\n",
    "train_pumpfailed_ratio = train_pumpfailed_value_counts[1]/train_pumpfailed_value_counts[0]\n",
    "plt.title(f'Train set: PumpFailed ratio: {train_pumpfailed_ratio: .2f}')\n",
    "plt.ylabel('Number of Failed/or not')\n",
    "\n",
    "plt.subplot(122)\n",
    "test_pumpfailed_value_counts.plot.bar()\n",
    "test_pumpfailed_ratio = test_pumpfailed_value_counts[1]/test_pumpfailed_value_counts[0]\n",
    "plt.title(f'Test set: PumpFailed ratio: {test_pumpfailed_ratio:.2f}')\n",
    "\n",
    "\n",
    "plt.show()"
   ]
  },
  {
   "cell_type": "code",
   "execution_count": 24,
   "id": "f39f99d6-0985-4f2d-9d4a-3f80bace8db8",
   "metadata": {},
   "outputs": [
    {
     "name": "stdout",
     "output_type": "stream",
     "text": [
      "Requirement already satisfied: xgboost in /opt/conda/lib/python3.7/site-packages (1.5.2)\n",
      "Requirement already satisfied: scipy in /opt/conda/lib/python3.7/site-packages (from xgboost) (1.7.3)\n",
      "Requirement already satisfied: numpy in /opt/conda/lib/python3.7/site-packages (from xgboost) (1.19.5)\n",
      "Note: you may need to restart the kernel to use updated packages.\n"
     ]
    }
   ],
   "source": [
    "%pip install xgboost"
   ]
  },
  {
   "cell_type": "code",
   "execution_count": 25,
   "id": "f0529bb1-4e7f-4e4b-a17d-813a79ff87a9",
   "metadata": {},
   "outputs": [
    {
     "data": {
      "text/html": [
       "<table>\n",
       "<thead>\n",
       "<tr><th>#                              </th><th>MachineId  </th><th>MeasurementId  </th><th>PumpFailed  </th><th>SlowStart  </th><th>SlowEnd  </th><th>Pressure  </th><th>prediction_xgb  </th></tr>\n",
       "</thead>\n",
       "<tbody>\n",
       "<tr><td><i style='opacity: 0.6'>0</i>  </td><td>2113       </td><td>1312           </td><td>0.0         </td><td>0.0        </td><td>0.0      </td><td>0.0       </td><td>0               </td></tr>\n",
       "<tr><td><i style='opacity: 0.6'>1</i>  </td><td>2120       </td><td>1319           </td><td>1.0         </td><td>0.0        </td><td>0.0      </td><td>0.0       </td><td>1               </td></tr>\n",
       "<tr><td><i style='opacity: 0.6'>2</i>  </td><td>2121       </td><td>1319           </td><td>1.0         </td><td>0.0        </td><td>0.0      </td><td>0.0       </td><td>1               </td></tr>\n",
       "<tr><td><i style='opacity: 0.6'>3</i>  </td><td>2122       </td><td>1319           </td><td>1.0         </td><td>0.0        </td><td>0.0      </td><td>0.0       </td><td>1               </td></tr>\n",
       "<tr><td><i style='opacity: 0.6'>4</i>  </td><td>2123       </td><td>-1             </td><td>0.0         </td><td>0.0        </td><td>0.0      </td><td>0.0       </td><td>0               </td></tr>\n",
       "<tr><td>...                            </td><td>...        </td><td>...            </td><td>...         </td><td>...        </td><td>...      </td><td>...       </td><td>...             </td></tr>\n",
       "<tr><td><i style='opacity: 0.6'>384</i></td><td>2203       </td><td>8232           </td><td>0.0         </td><td>0.0        </td><td>0.0      </td><td>0.0       </td><td>0               </td></tr>\n",
       "<tr><td><i style='opacity: 0.6'>385</i></td><td>1500       </td><td>-1             </td><td>0.0         </td><td>0.0        </td><td>1.0      </td><td>0.0       </td><td>0               </td></tr>\n",
       "<tr><td><i style='opacity: 0.6'>386</i></td><td>1501       </td><td>8336           </td><td>0.0         </td><td>0.0        </td><td>1.0      </td><td>0.0       </td><td>0               </td></tr>\n",
       "<tr><td><i style='opacity: 0.6'>387</i></td><td>1502       </td><td>-1             </td><td>0.0         </td><td>0.0        </td><td>0.0      </td><td>0.0       </td><td>0               </td></tr>\n",
       "<tr><td><i style='opacity: 0.6'>388</i></td><td>1503       </td><td>-1             </td><td>0.0         </td><td>0.0        </td><td>0.0      </td><td>0.0       </td><td>0               </td></tr>\n",
       "</tbody>\n",
       "</table>"
      ],
      "text/plain": [
       "#    MachineId    MeasurementId    PumpFailed    SlowStart    SlowEnd    Pressure    prediction_xgb\n",
       "0    2113         1312             0.0           0.0          0.0        0.0         0\n",
       "1    2120         1319             1.0           0.0          0.0        0.0         1\n",
       "2    2121         1319             1.0           0.0          0.0        0.0         1\n",
       "3    2122         1319             1.0           0.0          0.0        0.0         1\n",
       "4    2123         -1               0.0           0.0          0.0        0.0         0\n",
       "...  ...          ...              ...           ...          ...        ...         ...\n",
       "384  2203         8232             0.0           0.0          0.0        0.0         0\n",
       "385  1500         -1               0.0           0.0          1.0        0.0         0\n",
       "386  1501         8336             0.0           0.0          1.0        0.0         0\n",
       "387  1502         -1               0.0           0.0          0.0        0.0         0\n",
       "388  1503         -1               0.0           0.0          0.0        0.0         0"
      ]
     },
     "execution_count": 25,
     "metadata": {},
     "output_type": "execute_result"
    }
   ],
   "source": [
    "import xgboost\n",
    "import vaex.ml.sklearn\n",
    "\n",
    "features = ['MachineId','MeasurementId','SlowStart','SlowEnd','Pressure']\n",
    "target = 'PumpFailed'\n",
    "\n",
    "xgb_model = xgboost.sklearn.XGBClassifier(max_depth=11,\n",
    "                                          learning_rate=0.1,\n",
    "                                          n_estimators=500,\n",
    "                                          subsample=0.75,\n",
    "                                          colsample_bylevel=1,\n",
    "                                          colsample_bytree=1,\n",
    "                                          scale_pos_weight=1.5,\n",
    "                                          reg_lambda=1.5,\n",
    "                                          reg_alpha=5,\n",
    "                                          n_jobs=-1,\n",
    "                                          random_state=42,\n",
    "                                          verbosity=0,\n",
    "                                          use_label_encoder=False)\n",
    "\n",
    "vaex_xgb_model = vaex.ml.sklearn.Predictor(features=features,\n",
    "                                           target='PumpFailed',\n",
    "                                           model=xgb_model,\n",
    "                                           prediction_name='prediction_xgb')\n",
    "\n",
    "\n",
    "#Train the model\n",
    "vaex_xgb_model.fit(df_train)\n",
    "#Get the prediction of the model on the training data\n",
    "df_train = vaex_xgb_model.transform(df_train)\n",
    "\n",
    "df_train"
   ]
  },
  {
   "cell_type": "code",
   "execution_count": 26,
   "id": "c5d62786-c778-41bc-b25c-42044b0ec690",
   "metadata": {},
   "outputs": [],
   "source": [
    "from sklearn.metrics import accuracy_score, f1_score, roc_auc_score\n",
    "def binary_metrics(y_true, y_pred):\n",
    "    acc = accuracy_score(y_true=y_true, y_pred=y_pred)\n",
    "    f1 = f1_score(y_true=y_true, y_pred=y_pred)\n",
    "    roc = roc_auc_score(y_true=y_true, y_score=y_pred)\n",
    "    print(f'Accuracy:{acc: .3f}')\n",
    "    print(f'f1 score: {f1:.3f}')\n",
    "    print(f'roc_auc: {roc: .3f}')\n",
    "    "
   ]
  },
  {
   "cell_type": "code",
   "execution_count": 27,
   "id": "0e823648-a115-443e-b761-ad19c6da2083",
   "metadata": {},
   "outputs": [
    {
     "name": "stdout",
     "output_type": "stream",
     "text": [
      "Metrics for the training set:\n",
      "Accuracy: 0.887\n",
      "f1 score: 0.867\n",
      "roc_auc:  0.895\n"
     ]
    }
   ],
   "source": [
    "print('Metrics for the training set:')\n",
    "binary_metrics(y_true=df_train.PumpFailed.values, y_pred=df_train.prediction_xgb.values)"
   ]
  },
  {
   "cell_type": "code",
   "execution_count": 28,
   "id": "dbe8cfd2-29db-44bc-b9a1-6e70c8f71f74",
   "metadata": {},
   "outputs": [
    {
     "data": {
      "text/html": [
       "<table>\n",
       "<thead>\n",
       "<tr><th>#                             </th><th>MachineId  </th><th>MeasurementId  </th><th>PumpFailed  </th><th>SlowStart  </th><th>SlowEnd  </th><th>Pressure  </th><th>prediction_xgb  </th></tr>\n",
       "</thead>\n",
       "<tbody>\n",
       "<tr><td><i style='opacity: 0.6'>0</i> </td><td>33         </td><td>127            </td><td>0.0         </td><td>0.0        </td><td>1.0      </td><td>0.0       </td><td>0               </td></tr>\n",
       "<tr><td><i style='opacity: 0.6'>1</i> </td><td>1000       </td><td>-1             </td><td>1.0         </td><td>0.0        </td><td>0.0      </td><td>0.0       </td><td>0               </td></tr>\n",
       "<tr><td><i style='opacity: 0.6'>2</i> </td><td>1001       </td><td>-1             </td><td>1.0         </td><td>0.0        </td><td>0.0      </td><td>0.0       </td><td>0               </td></tr>\n",
       "<tr><td><i style='opacity: 0.6'>3</i> </td><td>1002       </td><td>-1             </td><td>1.0         </td><td>0.0        </td><td>0.0      </td><td>0.0       </td><td>0               </td></tr>\n",
       "<tr><td><i style='opacity: 0.6'>4</i> </td><td>1003       </td><td>-1             </td><td>1.0         </td><td>0.0        </td><td>0.0      </td><td>0.0       </td><td>0               </td></tr>\n",
       "<tr><td>...                           </td><td>...        </td><td>...            </td><td>...         </td><td>...        </td><td>...      </td><td>...       </td><td>...             </td></tr>\n",
       "<tr><td><i style='opacity: 0.6'>95</i></td><td>2102       </td><td>-1             </td><td>1.0         </td><td>0.0        </td><td>0.0      </td><td>0.0       </td><td>0               </td></tr>\n",
       "<tr><td><i style='opacity: 0.6'>96</i></td><td>2103       </td><td>1305           </td><td>1.0         </td><td>0.0        </td><td>0.0      </td><td>0.0       </td><td>0               </td></tr>\n",
       "<tr><td><i style='opacity: 0.6'>97</i></td><td>2110       </td><td>-1             </td><td>0.0         </td><td>0.0        </td><td>0.0      </td><td>0.0       </td><td>0               </td></tr>\n",
       "<tr><td><i style='opacity: 0.6'>98</i></td><td>2111       </td><td>-1             </td><td>0.0         </td><td>0.0        </td><td>0.0      </td><td>0.0       </td><td>0               </td></tr>\n",
       "<tr><td><i style='opacity: 0.6'>99</i></td><td>2112       </td><td>-1             </td><td>0.0         </td><td>0.0        </td><td>0.0      </td><td>0.0       </td><td>0               </td></tr>\n",
       "</tbody>\n",
       "</table>"
      ],
      "text/plain": [
       "#    MachineId    MeasurementId    PumpFailed    SlowStart    SlowEnd    Pressure    prediction_xgb\n",
       "0    33           127              0.0           0.0          1.0        0.0         0\n",
       "1    1000         -1               1.0           0.0          0.0        0.0         0\n",
       "2    1001         -1               1.0           0.0          0.0        0.0         0\n",
       "3    1002         -1               1.0           0.0          0.0        0.0         0\n",
       "4    1003         -1               1.0           0.0          0.0        0.0         0\n",
       "...  ...          ...              ...           ...          ...        ...         ...\n",
       "95   2102         -1               1.0           0.0          0.0        0.0         0\n",
       "96   2103         1305             1.0           0.0          0.0        0.0         0\n",
       "97   2110         -1               0.0           0.0          0.0        0.0         0\n",
       "98   2111         -1               0.0           0.0          0.0        0.0         0\n",
       "99   2112         -1               0.0           0.0          0.0        0.0         0"
      ]
     },
     "execution_count": 28,
     "metadata": {},
     "output_type": "execute_result"
    }
   ],
   "source": [
    "state = df_train.state_get()\n",
    "df_test.state_set(state)\n",
    "df_test.tail(100)"
   ]
  },
  {
   "cell_type": "code",
   "execution_count": 29,
   "id": "e4b74ffd-5d53-4ad0-83e2-e84a5f684a64",
   "metadata": {},
   "outputs": [
    {
     "name": "stdout",
     "output_type": "stream",
     "text": [
      "Metrics for the test set:\n",
      "Accuracy: 0.497\n",
      "f1 score: 0.333\n",
      "roc_auc:  0.465\n"
     ]
    }
   ],
   "source": [
    "print('Metrics for the test set:')\n",
    "binary_metrics(y_true=df_test.PumpFailed.values, y_pred=df_test.prediction_xgb.values)"
   ]
  },
  {
   "cell_type": "code",
   "execution_count": 30,
   "id": "2b3d59bd-2fd9-4c8f-bc2b-88a69c714bd8",
   "metadata": {},
   "outputs": [
    {
     "data": {
      "image/png": "[encoded data removed]",
      "text/plain": [
       "<Figure size 432x648 with 1 Axes>"
      ]
     },
     "metadata": {
      "needs_background": "light"
     },
     "output_type": "display_data"
    }
   ],
   "source": [
    "plt.figure(figsize=(6,9))\n",
    "\n",
    "ind = np.argsort(xgb_model.feature_importances_)[::-1]\n",
    "features_sorted = np.array(features)[ind]\n",
    "importances_sorted = xgb_model.feature_importances_[ind]\n",
    "\n",
    "plt.barh(y=range(len(features)), width=importances_sorted, height=0.2)\n",
    "plt.title('Gain')\n",
    "plt.yticks(ticks=range(len(features)), labels=features_sorted)\n",
    "plt.gca().invert_yaxis()\n",
    "plt.show()"
   ]
  },
  {
   "cell_type": "code",
   "execution_count": 31,
   "id": "a57de4cf-2c7d-4122-97cf-5c5e6e3a1b71",
   "metadata": {},
   "outputs": [
    {
     "data": {
      "application/vnd.jupyter.widget-view+json": {
       "model_id": "d16fbcfd5880492e90ff4f0530e22ccc",
       "version_major": 2,
       "version_minor": 0
      },
      "text/plain": [
       "HBox(children=(FloatProgress(value=0.0, max=1.0), Label(value='In progress...')))"
      ]
     },
     "metadata": {},
     "output_type": "display_data"
    },
    {
     "data": {
      "text/html": [
       "<table>\n",
       "<thead>\n",
       "<tr><th>#                              </th><th>MachineId  </th><th>MeasurementId  </th><th>PumpFailed  </th><th>SlowStart  </th><th>SlowEnd  </th><th>Pressure  </th><th>prediction_xgb  </th><th>prediction  </th></tr>\n",
       "</thead>\n",
       "<tbody>\n",
       "<tr><td><i style='opacity: 0.6'>0</i>  </td><td>2113       </td><td>1312           </td><td>0.0         </td><td>0.0        </td><td>0.0      </td><td>0.0       </td><td>0               </td><td>1           </td></tr>\n",
       "<tr><td><i style='opacity: 0.6'>1</i>  </td><td>2120       </td><td>1319           </td><td>1.0         </td><td>0.0        </td><td>0.0      </td><td>0.0       </td><td>1               </td><td>1           </td></tr>\n",
       "<tr><td><i style='opacity: 0.6'>2</i>  </td><td>2121       </td><td>1319           </td><td>1.0         </td><td>0.0        </td><td>0.0      </td><td>0.0       </td><td>1               </td><td>1           </td></tr>\n",
       "<tr><td><i style='opacity: 0.6'>3</i>  </td><td>2122       </td><td>1319           </td><td>1.0         </td><td>0.0        </td><td>0.0      </td><td>0.0       </td><td>1               </td><td>1           </td></tr>\n",
       "<tr><td><i style='opacity: 0.6'>4</i>  </td><td>2123       </td><td>-1             </td><td>0.0         </td><td>0.0        </td><td>0.0      </td><td>0.0       </td><td>0               </td><td>0           </td></tr>\n",
       "<tr><td>...                            </td><td>...        </td><td>...            </td><td>...         </td><td>...        </td><td>...      </td><td>...       </td><td>...             </td><td>...         </td></tr>\n",
       "<tr><td><i style='opacity: 0.6'>384</i></td><td>2203       </td><td>8232           </td><td>0.0         </td><td>0.0        </td><td>0.0      </td><td>0.0       </td><td>0               </td><td>1           </td></tr>\n",
       "<tr><td><i style='opacity: 0.6'>385</i></td><td>1500       </td><td>-1             </td><td>0.0         </td><td>0.0        </td><td>1.0      </td><td>0.0       </td><td>0               </td><td>0           </td></tr>\n",
       "<tr><td><i style='opacity: 0.6'>386</i></td><td>1501       </td><td>8336           </td><td>0.0         </td><td>0.0        </td><td>1.0      </td><td>0.0       </td><td>0               </td><td>1           </td></tr>\n",
       "<tr><td><i style='opacity: 0.6'>387</i></td><td>1502       </td><td>-1             </td><td>0.0         </td><td>0.0        </td><td>0.0      </td><td>0.0       </td><td>0               </td><td>0           </td></tr>\n",
       "<tr><td><i style='opacity: 0.6'>388</i></td><td>1503       </td><td>-1             </td><td>0.0         </td><td>0.0        </td><td>0.0      </td><td>0.0       </td><td>0               </td><td>0           </td></tr>\n",
       "</tbody>\n",
       "</table>"
      ],
      "text/plain": [
       "#    MachineId    MeasurementId    PumpFailed    SlowStart    SlowEnd    Pressure    prediction_xgb    prediction\n",
       "0    2113         1312             0.0           0.0          0.0        0.0         0                 1\n",
       "1    2120         1319             1.0           0.0          0.0        0.0         1                 1\n",
       "2    2121         1319             1.0           0.0          0.0        0.0         1                 1\n",
       "3    2122         1319             1.0           0.0          0.0        0.0         1                 1\n",
       "4    2123         -1               0.0           0.0          0.0        0.0         0                 0\n",
       "...  ...          ...              ...           ...          ...        ...         ...               ...\n",
       "384  2203         8232             0.0           0.0          0.0        0.0         0                 1\n",
       "385  1500         -1               0.0           0.0          1.0        0.0         0                 0\n",
       "386  1501         8336             0.0           0.0          1.0        0.0         0                 1\n",
       "387  1502         -1               0.0           0.0          0.0        0.0         0                 0\n",
       "388  1503         -1               0.0           0.0          0.0        0.0         0                 0"
      ]
     },
     "execution_count": 31,
     "metadata": {},
     "output_type": "execute_result"
    }
   ],
   "source": [
    "from vaex.ml.sklearn import IncrementalPredictor\n",
    "from sklearn.linear_model import SGDClassifier\n",
    "\n",
    "model = SGDClassifier(learning_rate='constant', eta0=0.001, random_state=42)\n",
    "vaex_model = IncrementalPredictor(features=features, target=target, model=model,\n",
    "                                  batch_size=11_000_000, partial_fit_kwargs={'classes':[0,1]})\n",
    "                            \n",
    "vaex_model.fit(df_train, progress='widget')\n",
    "\n",
    "df_train = vaex_model.transform(df_train)\n",
    "df_train"
   ]
  },
  {
   "cell_type": "code",
   "execution_count": 32,
   "id": "179a79ca-6984-4f9d-8b06-2933d8d29424",
   "metadata": {},
   "outputs": [
    {
     "name": "stdout",
     "output_type": "stream",
     "text": [
      "Metrics for the training set:\n",
      "Accuracy: 0.622\n",
      "f1 score: 0.358\n",
      "roc_auc:  0.560\n"
     ]
    }
   ],
   "source": [
    "print('Metrics for the training set:')\n",
    "binary_metrics(y_true=df_train.PumpFailed.values, y_pred=df_train.prediction.values)"
   ]
  },
  {
   "cell_type": "code",
   "execution_count": 33,
   "id": "c1c93b4e-377f-4d5f-867c-b88eb9e134ff",
   "metadata": {},
   "outputs": [
    {
     "data": {
      "text/html": [
       "<table>\n",
       "<thead>\n",
       "<tr><th>#                             </th><th>MachineId  </th><th>MeasurementId  </th><th>PumpFailed  </th><th>SlowStart  </th><th>SlowEnd  </th><th>Pressure  </th><th>prediction_xgb  </th><th>prediction  </th></tr>\n",
       "</thead>\n",
       "<tbody>\n",
       "<tr><td><i style='opacity: 0.6'>0</i> </td><td>33         </td><td>127            </td><td>0.0         </td><td>0.0        </td><td>1.0      </td><td>0.0       </td><td>0               </td><td>1           </td></tr>\n",
       "<tr><td><i style='opacity: 0.6'>1</i> </td><td>1000       </td><td>-1             </td><td>1.0         </td><td>0.0        </td><td>0.0      </td><td>0.0       </td><td>0               </td><td>0           </td></tr>\n",
       "<tr><td><i style='opacity: 0.6'>2</i> </td><td>1001       </td><td>-1             </td><td>1.0         </td><td>0.0        </td><td>0.0      </td><td>0.0       </td><td>0               </td><td>0           </td></tr>\n",
       "<tr><td><i style='opacity: 0.6'>3</i> </td><td>1002       </td><td>-1             </td><td>1.0         </td><td>0.0        </td><td>0.0      </td><td>0.0       </td><td>0               </td><td>0           </td></tr>\n",
       "<tr><td><i style='opacity: 0.6'>4</i> </td><td>1003       </td><td>-1             </td><td>1.0         </td><td>0.0        </td><td>0.0      </td><td>0.0       </td><td>0               </td><td>0           </td></tr>\n",
       "<tr><td>...                           </td><td>...        </td><td>...            </td><td>...         </td><td>...        </td><td>...      </td><td>...       </td><td>...             </td><td>...         </td></tr>\n",
       "<tr><td><i style='opacity: 0.6'>95</i></td><td>2102       </td><td>-1             </td><td>1.0         </td><td>0.0        </td><td>0.0      </td><td>0.0       </td><td>0               </td><td>0           </td></tr>\n",
       "<tr><td><i style='opacity: 0.6'>96</i></td><td>2103       </td><td>1305           </td><td>1.0         </td><td>0.0        </td><td>0.0      </td><td>0.0       </td><td>0               </td><td>1           </td></tr>\n",
       "<tr><td><i style='opacity: 0.6'>97</i></td><td>2110       </td><td>-1             </td><td>0.0         </td><td>0.0        </td><td>0.0      </td><td>0.0       </td><td>0               </td><td>0           </td></tr>\n",
       "<tr><td><i style='opacity: 0.6'>98</i></td><td>2111       </td><td>-1             </td><td>0.0         </td><td>0.0        </td><td>0.0      </td><td>0.0       </td><td>0               </td><td>0           </td></tr>\n",
       "<tr><td><i style='opacity: 0.6'>99</i></td><td>2112       </td><td>-1             </td><td>0.0         </td><td>0.0        </td><td>0.0      </td><td>0.0       </td><td>0               </td><td>0           </td></tr>\n",
       "</tbody>\n",
       "</table>"
      ],
      "text/plain": [
       "#    MachineId    MeasurementId    PumpFailed    SlowStart    SlowEnd    Pressure    prediction_xgb    prediction\n",
       "0    33           127              0.0           0.0          1.0        0.0         0                 1\n",
       "1    1000         -1               1.0           0.0          0.0        0.0         0                 0\n",
       "2    1001         -1               1.0           0.0          0.0        0.0         0                 0\n",
       "3    1002         -1               1.0           0.0          0.0        0.0         0                 0\n",
       "4    1003         -1               1.0           0.0          0.0        0.0         0                 0\n",
       "...  ...          ...              ...           ...          ...        ...         ...               ...\n",
       "95   2102         -1               1.0           0.0          0.0        0.0         0                 0\n",
       "96   2103         1305             1.0           0.0          0.0        0.0         0                 1\n",
       "97   2110         -1               0.0           0.0          0.0        0.0         0                 0\n",
       "98   2111         -1               0.0           0.0          0.0        0.0         0                 0\n",
       "99   2112         -1               0.0           0.0          0.0        0.0         0                 0"
      ]
     },
     "execution_count": 33,
     "metadata": {},
     "output_type": "execute_result"
    }
   ],
   "source": [
    "state = df_train.state_get()\n",
    "df_test.state_set(state)\n",
    "\n",
    "df_test.tail(100)"
   ]
  },
  {
   "cell_type": "code",
   "execution_count": 34,
   "id": "138b1a74-52c3-4d12-b309-a641b86ea335",
   "metadata": {},
   "outputs": [
    {
     "name": "stdout",
     "output_type": "stream",
     "text": [
      "Accuracy: 0.635\n",
      "f1 score: 0.384\n",
      "roc_auc:  0.571\n"
     ]
    }
   ],
   "source": [
    "binary_metrics(y_true=df_test.PumpFailed.values,y_pred=df_test.prediction.values)"
   ]
  },
  {
   "cell_type": "code",
   "execution_count": null,
   "id": "0b3e5335-28e8-4421-b136-87b3827dd2c3",
   "metadata": {},
   "outputs": [],
   "source": []
  },
  {
   "cell_type": "code",
   "execution_count": null,
   "id": "be1f3374-ea37-4d61-bbb7-6a9f5e49dbae",
   "metadata": {},
   "outputs": [],
   "source": []
  },
  {
   "cell_type": "code",
   "execution_count": null,
   "id": "c922621a-1e19-46dd-84b0-883f0d676f07",
   "metadata": {},
   "outputs": [],
   "source": []
  },
  {
   "cell_type": "code",
   "execution_count": null,
   "id": "d659bf52-50f9-4058-adc7-d5c01ddde857",
   "metadata": {},
   "outputs": [],
   "source": []
  },
  {
   "cell_type": "code",
   "execution_count": null,
   "id": "ee91eb70-5b62-46a9-b0fe-5c20d6d7cbcb",
   "metadata": {},
   "outputs": [],
   "source": []
  },
  {
   "cell_type": "code",
   "execution_count": null,
   "id": "4a42af15-53bc-45c2-aff0-700d785e788f",
   "metadata": {},
   "outputs": [],
   "source": []
  },
  {
   "cell_type": "code",
   "execution_count": null,
   "id": "7174bcd3-5ca1-4893-9c0c-474bd0afdd66",
   "metadata": {},
   "outputs": [],
   "source": []
  }
 ],
 "metadata": {
  "environment": {
   "kernel": "python3",
   "name": "common-cpu.m91",
   "type": "gcloud",
   "uri": "gcr.io/deeplearning-platform-release/base-cpu:m91"
  },
  "kernelspec": {
   "display_name": "Python 3",
   "language": "python",
   "name": "python3"
  },
  "language_info": {
   "codemirror_mode": {
    "name": "ipython",
    "version": 3
   },
   "file_extension": ".py",
   "mimetype": "text/x-python",
   "name": "python",
   "nbconvert_exporter": "python",
   "pygments_lexer": "ipython3",
   "version": "3.7.12"
  }
 },
 "nbformat": 4,
 "nbformat_minor": 5
}
